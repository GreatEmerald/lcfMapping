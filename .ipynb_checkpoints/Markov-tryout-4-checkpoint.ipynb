{
 "cells": [
  {
   "cell_type": "code",
   "execution_count": 2,
   "id": "f8be720b",
   "metadata": {},
   "outputs": [],
   "source": [
    "# Import relevant packages\n",
    "import os\n",
    "import pandas as pd\n",
    "import numpy as np\n",
    "import matplotlib.pyplot as plt\n",
    "from itertools import chain"
   ]
  },
  {
   "cell_type": "code",
   "execution_count": 2,
   "id": "d5a4763e",
   "metadata": {},
   "outputs": [
    {
     "data": {
      "text/plain": [
       "'C:\\\\Users\\\\robur\\\\Documents\\\\Thesis\\\\code\\\\lcfMapping'"
      ]
     },
     "execution_count": 2,
     "metadata": {},
     "output_type": "execute_result"
    }
   ],
   "source": [
    "os.getcwd()"
   ]
  },
  {
   "cell_type": "code",
   "execution_count": 3,
   "id": "9df5c69c",
   "metadata": {},
   "outputs": [
    {
     "data": {
      "text/html": [
       "<div>\n",
       "<style scoped>\n",
       "    .dataframe tbody tr th:only-of-type {\n",
       "        vertical-align: middle;\n",
       "    }\n",
       "\n",
       "    .dataframe tbody tr th {\n",
       "        vertical-align: top;\n",
       "    }\n",
       "\n",
       "    .dataframe thead th {\n",
       "        text-align: right;\n",
       "    }\n",
       "</style>\n",
       "<table border=\"1\" class=\"dataframe\">\n",
       "  <thead>\n",
       "    <tr style=\"text-align: right;\">\n",
       "      <th></th>\n",
       "      <th>tree</th>\n",
       "      <th>shrub</th>\n",
       "      <th>grassland</th>\n",
       "      <th>crops</th>\n",
       "      <th>urban_built_up</th>\n",
       "      <th>bare</th>\n",
       "      <th>water</th>\n",
       "    </tr>\n",
       "  </thead>\n",
       "  <tbody>\n",
       "    <tr>\n",
       "      <th>0</th>\n",
       "      <td>0.000000</td>\n",
       "      <td>3.571429</td>\n",
       "      <td>96.428571</td>\n",
       "      <td>0.000000</td>\n",
       "      <td>0.0</td>\n",
       "      <td>0.000000</td>\n",
       "      <td>0.000000</td>\n",
       "    </tr>\n",
       "    <tr>\n",
       "      <th>1</th>\n",
       "      <td>61.764706</td>\n",
       "      <td>0.000000</td>\n",
       "      <td>38.235294</td>\n",
       "      <td>0.000000</td>\n",
       "      <td>0.0</td>\n",
       "      <td>0.000000</td>\n",
       "      <td>0.000000</td>\n",
       "    </tr>\n",
       "    <tr>\n",
       "      <th>2</th>\n",
       "      <td>0.000000</td>\n",
       "      <td>17.142857</td>\n",
       "      <td>65.714286</td>\n",
       "      <td>0.000000</td>\n",
       "      <td>0.0</td>\n",
       "      <td>17.142857</td>\n",
       "      <td>0.000000</td>\n",
       "    </tr>\n",
       "    <tr>\n",
       "      <th>3</th>\n",
       "      <td>0.000000</td>\n",
       "      <td>63.636364</td>\n",
       "      <td>9.090909</td>\n",
       "      <td>0.000000</td>\n",
       "      <td>0.0</td>\n",
       "      <td>27.272727</td>\n",
       "      <td>0.000000</td>\n",
       "    </tr>\n",
       "    <tr>\n",
       "      <th>4</th>\n",
       "      <td>34.285714</td>\n",
       "      <td>5.714286</td>\n",
       "      <td>60.000000</td>\n",
       "      <td>0.000000</td>\n",
       "      <td>0.0</td>\n",
       "      <td>0.000000</td>\n",
       "      <td>0.000000</td>\n",
       "    </tr>\n",
       "    <tr>\n",
       "      <th>...</th>\n",
       "      <td>...</td>\n",
       "      <td>...</td>\n",
       "      <td>...</td>\n",
       "      <td>...</td>\n",
       "      <td>...</td>\n",
       "      <td>...</td>\n",
       "      <td>...</td>\n",
       "    </tr>\n",
       "    <tr>\n",
       "      <th>30484</th>\n",
       "      <td>100.000000</td>\n",
       "      <td>0.000000</td>\n",
       "      <td>0.000000</td>\n",
       "      <td>0.000000</td>\n",
       "      <td>0.0</td>\n",
       "      <td>0.000000</td>\n",
       "      <td>0.000000</td>\n",
       "    </tr>\n",
       "    <tr>\n",
       "      <th>30485</th>\n",
       "      <td>0.000000</td>\n",
       "      <td>0.000000</td>\n",
       "      <td>0.000000</td>\n",
       "      <td>0.000000</td>\n",
       "      <td>0.0</td>\n",
       "      <td>0.000000</td>\n",
       "      <td>100.000000</td>\n",
       "    </tr>\n",
       "    <tr>\n",
       "      <th>30486</th>\n",
       "      <td>0.000000</td>\n",
       "      <td>0.000000</td>\n",
       "      <td>1.369863</td>\n",
       "      <td>0.000000</td>\n",
       "      <td>0.0</td>\n",
       "      <td>0.000000</td>\n",
       "      <td>98.630137</td>\n",
       "    </tr>\n",
       "    <tr>\n",
       "      <th>30487</th>\n",
       "      <td>0.000000</td>\n",
       "      <td>0.000000</td>\n",
       "      <td>100.000000</td>\n",
       "      <td>0.000000</td>\n",
       "      <td>0.0</td>\n",
       "      <td>0.000000</td>\n",
       "      <td>0.000000</td>\n",
       "    </tr>\n",
       "    <tr>\n",
       "      <th>30488</th>\n",
       "      <td>0.000000</td>\n",
       "      <td>0.000000</td>\n",
       "      <td>6.122449</td>\n",
       "      <td>93.877551</td>\n",
       "      <td>0.0</td>\n",
       "      <td>0.000000</td>\n",
       "      <td>0.000000</td>\n",
       "    </tr>\n",
       "  </tbody>\n",
       "</table>\n",
       "<p>30489 rows × 7 columns</p>\n",
       "</div>"
      ],
      "text/plain": [
       "             tree      shrub   grassland      crops  urban_built_up  \\\n",
       "0        0.000000   3.571429   96.428571   0.000000             0.0   \n",
       "1       61.764706   0.000000   38.235294   0.000000             0.0   \n",
       "2        0.000000  17.142857   65.714286   0.000000             0.0   \n",
       "3        0.000000  63.636364    9.090909   0.000000             0.0   \n",
       "4       34.285714   5.714286   60.000000   0.000000             0.0   \n",
       "...           ...        ...         ...        ...             ...   \n",
       "30484  100.000000   0.000000    0.000000   0.000000             0.0   \n",
       "30485    0.000000   0.000000    0.000000   0.000000             0.0   \n",
       "30486    0.000000   0.000000    1.369863   0.000000             0.0   \n",
       "30487    0.000000   0.000000  100.000000   0.000000             0.0   \n",
       "30488    0.000000   0.000000    6.122449  93.877551             0.0   \n",
       "\n",
       "            bare       water  \n",
       "0       0.000000    0.000000  \n",
       "1       0.000000    0.000000  \n",
       "2      17.142857    0.000000  \n",
       "3      27.272727    0.000000  \n",
       "4       0.000000    0.000000  \n",
       "...          ...         ...  \n",
       "30484   0.000000    0.000000  \n",
       "30485   0.000000  100.000000  \n",
       "30486   0.000000   98.630137  \n",
       "30487   0.000000    0.000000  \n",
       "30488   0.000000    0.000000  \n",
       "\n",
       "[30489 rows x 7 columns]"
      ]
     },
     "execution_count": 3,
     "metadata": {},
     "output_type": "execute_result"
    }
   ],
   "source": [
    "# Read in excel files\n",
    "pred2015 = pd.read_csv(\"../data/output/wurChange/predictions-2015-ndvi-median.csv\")\n",
    "pred2016 = pd.read_csv(\"../data/output/wurChange/predictions-2016-ndvi-median.csv\")\n",
    "pred2017 = pd.read_csv(\"../data/output/wurChange/predictions-2017-ndvi-median.csv\")\n",
    "pred2018 = pd.read_csv(\"../data/output/wurChange/predictions-2018-ndvi-median.csv\")\n",
    "classes = list(pred2015.columns)\n",
    "\n",
    "pred2015"
   ]
  },
  {
   "cell_type": "code",
   "execution_count": 4,
   "id": "4f8b63bc",
   "metadata": {},
   "outputs": [
    {
     "name": "stdout",
     "output_type": "stream",
     "text": [
      "tree\n",
      "shrub\n",
      "grassland\n",
      "crops\n",
      "urban_built_up\n",
      "bare\n",
      "water\n"
     ]
    }
   ],
   "source": [
    "for i in range(len(classes)):\n",
    "    print(classes[i])"
   ]
  },
  {
   "cell_type": "code",
   "execution_count": 5,
   "id": "08a80ca9",
   "metadata": {},
   "outputs": [
    {
     "name": "stdout",
     "output_type": "stream",
     "text": [
      "2015: 61.7647058823529\n",
      "2016: 51.6129032258064\n",
      "2017: 20.0\n",
      "2018: 20.0\n"
     ]
    }
   ],
   "source": [
    "print(\"2015:\", pred2015[\"tree\"][1])\n",
    "print(\"2016:\", pred2016[\"tree\"][1])\n",
    "print(\"2017:\", pred2017[\"tree\"][1])\n",
    "print(\"2018:\", pred2018[\"tree\"][1])"
   ]
  },
  {
   "cell_type": "code",
   "execution_count": 6,
   "id": "70d696aa",
   "metadata": {},
   "outputs": [
    {
     "data": {
      "text/plain": [
       "2015    61.764706\n",
       "2016    51.612903\n",
       "2017    20.000000\n",
       "2018    20.000000\n",
       "Name: 1, dtype: float64"
      ]
     },
     "execution_count": 6,
     "metadata": {},
     "output_type": "execute_result"
    }
   ],
   "source": [
    "tree = pd.concat([pred2015[\"tree\"],pred2016[\"tree\"],pred2017[\"tree\"],pred2018[\"tree\"]], axis=1)\n",
    "tree.columns = ['2015', '2016', '2017', '2018']\n",
    "tree = tree.iloc[1]\n",
    "tree"
   ]
  },
  {
   "cell_type": "code",
   "execution_count": 32,
   "id": "a9315c1f",
   "metadata": {},
   "outputs": [
    {
     "name": "stdout",
     "output_type": "stream",
     "text": [
      "3.57142857142857\n",
      "3.73831775700935\n",
      "4.51127819548872\n",
      "4.28571428571429\n",
      "tree               0.000000\n",
      "shrub              3.571429\n",
      "grassland         96.428571\n",
      "crops              0.000000\n",
      "urban_built_up     0.000000\n",
      "bare               0.000000\n",
      "water              0.000000\n",
      "Name: 0, dtype: float64\n"
     ]
    }
   ],
   "source": [
    "print(pred2015.iloc[0][1])\n",
    "print(pred2016.iloc[0][1])\n",
    "print(pred2017.iloc[0][1])\n",
    "print(pred2018.iloc[0][1])\n",
    "\n",
    "print(pred2015.iloc[0])"
   ]
  },
  {
   "cell_type": "code",
   "execution_count": null,
   "id": "99a290c8",
   "metadata": {},
   "outputs": [],
   "source": []
  },
  {
   "cell_type": "code",
   "execution_count": null,
   "id": "721c6534",
   "metadata": {},
   "outputs": [],
   "source": [
    "## Start of Markov chain building"
   ]
  },
  {
   "cell_type": "code",
   "execution_count": 20,
   "id": "b25486d2",
   "metadata": {},
   "outputs": [],
   "source": [
    "rf2015 = tree[0]\n",
    "rf2016 = tree[1]\n",
    "rf2017 = tree[2]\n",
    "rf2018 = tree[3]"
   ]
  },
  {
   "cell_type": "code",
   "execution_count": null,
   "id": "9602dff5",
   "metadata": {},
   "outputs": [],
   "source": [
    "## Code concept\n",
    "\n",
    "# Concept for class tree for 1st point\n",
    "\"\"\"\n",
    "for n times:\n",
    "    2015\n",
    "        optimise\n",
    "    2016\n",
    "        optimise\n",
    "    2017\n",
    "        optimise\n",
    "    2018\n",
    "        optimise\n",
    "\"\"\"\n",
    "\n",
    "# Concept of all code\n",
    "\"\"\"\n",
    "for 1:30.000 points\n",
    "    \n",
    "    for 1:7 classes:\n",
    "        \n",
    "        for n times:\n",
    "            2015\n",
    "                optimise\n",
    "            2016\n",
    "                optimise\n",
    "            2017\n",
    "                optimise\n",
    "            2018\n",
    "                optimise\n",
    "\"\"\"\n",
    "\n",
    "# Concept of all code with params\n",
    "\"\"\"\n",
    "pred2015\n",
    "pred2016\n",
    "pred2017\n",
    "pred2018\n",
    "\n",
    "for 1:30.000 points (i):\n",
    "    \n",
    "    pred2015.iloc[i]\n",
    "    pred2016.iloc[i]\n",
    "    pred2017.iloc[i]\n",
    "    pred2018.iloc[i]\n",
    "    \n",
    "    for 1:7 classes (j):\n",
    "        pred2015.iloc[i][j]\n",
    "        pred2016.iloc[i][j]\n",
    "        pred2017.iloc[i][j]\n",
    "        pred2018.iloc[i][j]\n",
    "        \n",
    "        for n times:\n",
    "            2015\n",
    "                optimise\n",
    "            2016\n",
    "                optimise\n",
    "            2017\n",
    "                optimise\n",
    "            2018\n",
    "                optimise\n",
    "\"\"\""
   ]
  },
  {
   "cell_type": "code",
   "execution_count": 7,
   "id": "938772a6",
   "metadata": {},
   "outputs": [
    {
     "name": "stdout",
     "output_type": "stream",
     "text": [
      "RF-values:\n",
      " 2015: 61.7647058823529\n",
      " 2016: 51.6129032258064\n",
      " 2017: 20.0\n",
      " 2018: 20.0\n",
      "\n",
      "After minimising...\n",
      " Energy 2015: [103.0590971774646, 84.75549186437159, 70.45188655127859, 60.14828123818558, 53.84467592509258, 51.54107061199959, 51.54107061199959, 51.54107061199959, 51.54107061199959, 51.54107061199959, 51.54107061199959, 51.54107061199959, 51.54107061199959, 51.54107061199959, 51.54107061199959]\n",
      " New node 2015: 56.7647058823529 \n",
      "\n",
      " Energy 2016: [1102.4347475416653, 1062.5125464031455, 1028.5903452646255, 1000.6681441261057, 978.745942987586, 962.8237418490662, 952.9015407105464, 948.9793395720267, 948.9793395720267, 948.9793395720267, 948.9793395720267, 948.9793395720267, 948.9793395720267, 948.9793395720267, 948.9793395720267, 948.9793395720267, 948.9793395720267]\n",
      " New node 2016: 44.6129032258064 \n",
      "\n",
      " Energy 2017: [999.3756503642006, 939.1498439125878, 884.924037460975, 836.6982310093622, 794.4724245577494, 758.2466181061366, 728.0208116545239, 703.795005202911, 685.5691987512982, 673.3433922996854, 667.1175858480726, 666.8917793964598, 666.8917793964598, 666.8917793964598, 666.8917793964598, 666.8917793964598, 666.8917793964598, 666.8917793964598, 666.8917793964598, 666.8917793964598, 666.8917793964598]\n",
      " New node 2017: 31.0 \n",
      "\n",
      " Energy 2018: [0.0, 0.0, 0.0, 0.0, 0.0, 0.0, 0.0, 0.0, 0.0, 0.0]\n",
      " New node 2018: 20.0 \n",
      "\n"
     ]
    }
   ],
   "source": [
    "\"\"\" \n",
    "for 1:7 classes (j):\n",
    "        pred2015.iloc[i][j]\n",
    "        pred2016.iloc[i][j]\n",
    "        pred2017.iloc[i][j]\n",
    "        pred2018.iloc[i][j]\n",
    "        \n",
    "        for n times:\n",
    "            2015\n",
    "                optimise\n",
    "            2016\n",
    "                optimise\n",
    "            2017\n",
    "                optimise\n",
    "            2018\n",
    "                optimise\n",
    "\"\"\"\n",
    "\n",
    "# for 1:7 classes (j):\n",
    "\n",
    "i=1\n",
    "j=0\n",
    "\n",
    "# initialise\n",
    "rf2015 = pred2015.iloc[i][j]\n",
    "rf2016 = pred2016.iloc[i][j]\n",
    "rf2017 = pred2017.iloc[i][j]\n",
    "rf2018 = pred2018.iloc[i][j]\n",
    "print(\"RF-values:\")\n",
    "print(\" 2015:\", rf2015)\n",
    "print(\" 2016:\", rf2016)\n",
    "print(\" 2017:\", rf2017)\n",
    "print(\" 2018:\", rf2018)\n",
    "\n",
    "node2015 = rf2015\n",
    "node2016 = rf2016\n",
    "node2017 = rf2017\n",
    "node2018 = rf2018\n",
    "\n",
    "edges2015 = (rf2015,node2016)\n",
    "edges2016 = (rf2016,node2015,node2017)\n",
    "edges2017 = (rf2017,node2016,node2018)\n",
    "edges2018 = (rf2018,node2017)\n",
    "\n",
    "# for n times:\n",
    "# node2015 = optimise_node2015(node2015, rf2015, edges = node2016)\n",
    "# node2016 = optimise_node2016(node2016, rf2016, edges = (node2015, node2017))\n",
    "# node2017 = optimise_node2017(node2017, rf2017, edges = (node2016, node2018))\n",
    "# node2018 = optimise_node2018(node2018, rf2018, edges = node2017)\n",
    "\n",
    "stepsize = 1\n",
    "plot = False\n",
    "eSim2015 = []\n",
    "eSim2016 = []\n",
    "eSim2017 = []\n",
    "eSim2018 = []\n",
    "eTotal = []\n",
    "\n",
    "for k in range(10):\n",
    "    \n",
    "    # make function to calc total energy each k iteration\n",
    "    eTotal = None\n",
    "    \n",
    "    node2015, eSim = optimise_node(node2015, edges=edges2015, stepsize=stepsize, plot=plot)\n",
    "    eSim2015.append(eSim)\n",
    "    \n",
    "    node2016, eSim = optimise_node(node2016, edges=edges2016, stepsize=stepsize, plot=plot)\n",
    "    eSim2016.append(eSim)\n",
    "    \n",
    "    node2017, eSim = optimise_node(node2017, edges=edges2017, stepsize=stepsize, plot=plot)\n",
    "    eSim2017.append(eSim)\n",
    "    \n",
    "    node2018, eSim = optimise_node(node2018, edges=edges2018, stepsize=stepsize, plot=plot)\n",
    "    eSim2018.append(eSim)\n",
    "\n",
    "eSim2015 = list(chain.from_iterable(eSim2015))\n",
    "eSim2016 = list(chain.from_iterable(eSim2016))\n",
    "eSim2017 = list(chain.from_iterable(eSim2017))\n",
    "eSim2018 = list(chain.from_iterable(eSim2018))\n",
    "\n",
    "print(\"\\nAfter minimising...\")\n",
    "print(\" Energy 2015:\", eSim2015)\n",
    "print(\" New node 2015:\", node2015,\"\\n\")\n",
    "print(\" Energy 2016:\", eSim2016)\n",
    "print(\" New node 2016:\", node2016,\"\\n\")\n",
    "print(\" Energy 2017:\", eSim2017)\n",
    "print(\" New node 2017:\", node2017,\"\\n\")\n",
    "print(\" Energy 2018:\", eSim2018)\n",
    "print(\" New node 2018:\", node2018,\"\\n\")"
   ]
  },
  {
   "cell_type": "code",
   "execution_count": null,
   "id": "60c4ae26",
   "metadata": {},
   "outputs": [],
   "source": []
  },
  {
   "cell_type": "code",
   "execution_count": 64,
   "id": "de206f63",
   "metadata": {},
   "outputs": [
    {
     "data": {
      "text/plain": [
       "Text(0.5, 0, 'Iterations')"
      ]
     },
     "execution_count": 64,
     "metadata": {},
     "output_type": "execute_result"
    },
    {
     "data": {
      "image/png": "[encoded data removed]",
      "text/plain": [
       "<Figure size 432x288 with 1 Axes>"
      ]
     },
     "metadata": {
      "needs_background": "light"
     },
     "output_type": "display_data"
    }
   ],
   "source": [
    "ys = eSim2015\n",
    "xs = [x for x in range(len(ys))]\n",
    "plt.plot(xs, ys)\n",
    "\n",
    "ys = eSim2016\n",
    "xs = [x for x in range(len(ys))]\n",
    "plt.plot(xs, ys)\n",
    "\n",
    "ys = eSim2017\n",
    "xs = [x for x in range(len(ys))]\n",
    "plt.plot(xs, ys)\n",
    "\n",
    "ys = eSim2018\n",
    "xs = [x for x in range(len(ys))]\n",
    "plt.plot(xs, ys)\n",
    "plt.ylabel('Energy', fontsize=14)\n",
    "plt.xlabel('Iterations', fontsize=14)"
   ]
  },
  {
   "cell_type": "code",
   "execution_count": 5,
   "id": "af49876d",
   "metadata": {},
   "outputs": [],
   "source": [
    "# optimise_node\n",
    "\n",
    "def optimise_node(node, edges, stepsize=5, plot=False):\n",
    "\n",
    "    # describe edges\n",
    "    # 2 edges: rf2015 + node2016\n",
    "    e = calc_energy(node, edges)\n",
    "    \n",
    "    # Create empty list to keep track of energy\n",
    "    eSim = []\n",
    "    eSim.append(e)\n",
    "    #print(\"Initial Energy:\", eSim[0])\n",
    "\n",
    "    #print(\"Start simulation...\")\n",
    "    node, eSim = minimise_energy(node, edges, eSim, stepsize)\n",
    "    #print(\"New node:\", node)\n",
    "    #print(\"Energy:\", eSim)\n",
    "    \n",
    "    if plot==True:\n",
    "        #print(\"Plotting energy\")\n",
    "\n",
    "        ys = eSim\n",
    "        xs = [x for x in range(len(ys))]\n",
    "\n",
    "        plt.plot(xs, ys)\n",
    "        plt.ylabel('Energy', fontsize=14)\n",
    "        plt.xlabel('Iterations', fontsize=14)\n",
    "        #plt.xticks(np.arange(min(xs), max(xs)+1, 1.0))\n",
    "        #plt.legend(bbox_to_anchor=(0,1.02,1,0.2), loc=\"lower left\", mode=\"expand\", borderaxespad=0, ncol=3)\n",
    "        \n",
    "        # Make sure to close the plt object once done\n",
    "        #plt.close()\n",
    "    \n",
    "    return node, eSim"
   ]
  },
  {
   "cell_type": "code",
   "execution_count": 9,
   "id": "9f683972",
   "metadata": {},
   "outputs": [
    {
     "name": "stdout",
     "output_type": "stream",
     "text": [
      "294.1843343691156\n",
      "515.7023609345806\n",
      "172.6663078036506\n",
      "False\n",
      "False\n",
      "[1, 2, 3, 4, 5, 6, 7, 8, 9, 10, 11, 12, 13, 14, 15, 16, 17, 18, 19, 20, 21, 22, 23, 24, 25, 26, 27, 28, 29, 30, 31, 32, 33, 34, 35, 36, 37, 38, 39, 40, 41, 42, 43, 44, 45, 46, 47, 48, 49, 50, 51, 52, 53, 54, 55, 56, 57, 58, 59, 60, 61, 62, 63, 64, 65, 66, 67, 68, 69, 70, 71, 72, 73, 74, 75, 76, 77, 78, 79, 80, 81, 82, 83, 84, 85, 86, 87, 88, 89, 90, 91, 92, 93, 94, 95, 96, 97, 98, 99]\n"
     ]
    },
    {
     "data": {
      "text/plain": [
       "Text(0.5, 0, 'Fraction')"
      ]
     },
     "execution_count": 9,
     "metadata": {},
     "output_type": "execute_result"
    },
    {
     "data": {
      "image/png": "[encoded data removed]",
      "text/plain": [
       "<Figure size 432x288 with 1 Axes>"
      ]
     },
     "metadata": {
      "needs_background": "light"
     },
     "output_type": "display_data"
    }
   ],
   "source": [
    "node = 61.7647058823529\n",
    "edges = (rf2015, node2016)\n",
    "print(calc_energy(node, edges))\n",
    "print(calc_energy(node + 5, edges))\n",
    "print(calc_energy(node - 5, edges))\n",
    "i = 0\n",
    "print(calc_energy(node + 5, edges) < eSim[i])\n",
    "print(calc_energy(node - 5, edges) < eSim[i])\n",
    "\n",
    "# Test plot energy vs 1:100\n",
    "x = list(range(1,100))\n",
    "print(x)\n",
    "y = []\n",
    "for i in x:\n",
    "    e = calc_energy(i, edges)\n",
    "    y.append(e)\n",
    "plt.plot(x, y)\n",
    "plt.ylabel('Energy', fontsize=14)\n",
    "plt.xlabel('Fraction', fontsize=14)"
   ]
  },
  {
   "cell_type": "code",
   "execution_count": 6,
   "id": "ca4c9fd8",
   "metadata": {},
   "outputs": [],
   "source": [
    "def calc_energy(node, edges):\n",
    "    \n",
    "    edge1 = edges[0]\n",
    "    edge2 = edges[1]\n",
    "    \n",
    "    e1 = (node - edge1)**2\n",
    "    e2 = (node - edge2)**2\n",
    "    \n",
    "    if len(edges) == 3:\n",
    "        edge3 = edges[2]\n",
    "        e3 = (node - edge3)**2\n",
    "        return e1 + e2 + e3\n",
    "    \n",
    "    return e1 + e2\n",
    "\n",
    "\n",
    "def minimise_energy(node, edges, eSim, stepsize):\n",
    "    \n",
    "    i = 0\n",
    "    #print(i)\n",
    "    \n",
    "    if calc_energy(node + stepsize, edges) < eSim[i]:\n",
    "        node = node + stepsize\n",
    "        i += 1\n",
    "        eSim.append(calc_energy(node, edges))\n",
    "        \n",
    "        while calc_energy(node + stepsize, edges) < eSim[i]:\n",
    "            node = node + stepsize\n",
    "            i += 1\n",
    "            eSim.append(calc_energy(node,edges))\n",
    "        \n",
    "    elif calc_energy(node - stepsize, edges) < eSim[i]:\n",
    "        node = node - stepsize\n",
    "        i += 1\n",
    "        eSim.append(calc_energy(node, edges))\n",
    "        \n",
    "        while calc_energy(node - stepsize, edges) < eSim[i]:\n",
    "            node = node - stepsize\n",
    "            i += 1\n",
    "            eSim.append(calc_energy(node, edges))\n",
    "    \n",
    "    return node, eSim"
   ]
  },
  {
   "cell_type": "code",
   "execution_count": 8,
   "id": "b99fdded",
   "metadata": {},
   "outputs": [],
   "source": [
    "def calc_total_energy(node2015, node2016, node2017, node2018):\n",
    "    # should create dictionary\n",
    "    # {\"node2015\": edges=...,\n",
    "    # \"node2016\": edges= ..,...}\n",
    "    newDict = {\n",
    "        node2015: edges2015,\n",
    "        node2016: edges2016,\n",
    "        node2017: edges2017,\n",
    "        node2018: edges2018,\n",
    "    }\n",
    "    e2015 = calc_energy(node2015, edges2015)\n",
    "    e2016 = calc_energy(node2016, edges2016)\n",
    "    e2017 = calc_energy(node2017, edges2017)\n",
    "    e2018 = calc_energy(node2018, edges2018)\n",
    "    \n",
    "    return e2015 + e2016 + e2017 + e2018\n",
    "    "
   ]
  },
  {
   "cell_type": "code",
   "execution_count": 10,
   "id": "8ea89b5a",
   "metadata": {},
   "outputs": [
    {
     "data": {
      "text/plain": [
       "{'node2015': (61.7647058823529, 51.6129032258064),\n",
       " 'node2016': (51.6129032258064, 61.7647058823529, 20.0),\n",
       " 'node2017': (20.0, 51.6129032258064, 20.0),\n",
       " 'node2018': (20.0, 20.0)}"
      ]
     },
     "execution_count": 10,
     "metadata": {},
     "output_type": "execute_result"
    }
   ],
   "source": [
    "newDict = {\n",
    "        \"node2015\": edges2015,\n",
    "        \"node2016\": edges2016,\n",
    "        \"node2017\": edges2017,\n",
    "        \"node2018\": edges2018,\n",
    "    }\n",
    "newDict"
   ]
  },
  {
   "cell_type": "code",
   "execution_count": 52,
   "id": "9fcd86bf",
   "metadata": {},
   "outputs": [
    {
     "name": "stdout",
     "output_type": "stream",
     "text": [
      "[[1, 2], [1, 2], [1, 2]]\n",
      "[1, 2] [1, 2] [1, 2]\n",
      "[1, 2, 1, 2, 1, 2]\n",
      "<class 'list'>\n"
     ]
    }
   ],
   "source": [
    "from itertools import chain\n",
    "eSim = [1,2]\n",
    "eSim2015 = []\n",
    "eSim2015.append(eSim)\n",
    "eSim2015.append(eSim)\n",
    "eSim2015.append(eSim)\n",
    "print(eSim2015)\n",
    "print(*eSim2015)\n",
    "print(list(chain.from_iterable(eSim2015)))\n",
    "print(type(list(chain.from_iterable(eSim2015))))"
   ]
  },
  {
   "cell_type": "code",
   "execution_count": null,
   "id": "462778b6",
   "metadata": {},
   "outputs": [],
   "source": []
  },
  {
   "cell_type": "code",
   "execution_count": null,
   "id": "4bcc9ab4",
   "metadata": {},
   "outputs": [],
   "source": [
    "## Old below:"
   ]
  },
  {
   "cell_type": "code",
   "execution_count": 14,
   "id": "778ab9a6",
   "metadata": {},
   "outputs": [],
   "source": [
    "def initialise(lcClass=None):\n",
    "    \n",
    "    node = lcClass[0]\n",
    "    node2016 = lcClass[1]\n",
    "    node2017 = lcClass[2]\n",
    "    node2018 = lcClass[3]\n",
    "\n",
    "    print(\"Node:\", node)\n",
    "    edgeUnary = tree[0]\n",
    "    edgeNextYear = tree[1]\n",
    "    \n",
    "    return node, edgeUnary, edgeNextYear\n",
    "\n",
    "def node_energy(node):\n",
    "    \n",
    "    # Squared-difference\n",
    "    energyUnary = (node - edgeUnary)**2\n",
    "    energyNextYear = (node - edgeNextYear)**2\n",
    "\n",
    "    #print(energyUnary)\n",
    "    #print(energyNextYear)\n",
    "\n",
    "    # Energy\n",
    "    energyTotal = energyUnary + energyNextYear\n",
    "    #print(\"Total energy:\", energyTotal)\n",
    "    \n",
    "    return(energyTotal)"
   ]
  },
  {
   "cell_type": "code",
   "execution_count": 19,
   "id": "e7cc145d",
   "metadata": {},
   "outputs": [
    {
     "name": "stdout",
     "output_type": "stream",
     "text": [
      "Node: 61.7647058823529\n",
      "Initial Energy: 103.0590971774646\n",
      "---\n",
      "Start simulation...\n",
      "51.54107061199959\n",
      "Here\n",
      "2 100.02304404653458\n",
      "Made it\n",
      "Energy: [103.0590971774646, 51.54107061199959, 100.02304404653458, 82.32664935962758, 68.63025467272058, 58.93385998581358, 53.237465298906585, 51.54107061199959, 53.84467592509258]\n",
      "Final node: 57.7647058823529\n"
     ]
    }
   ],
   "source": [
    "# Intialise elements\n",
    "start_node, edgeUnary, edgeNextYear =  initialise(tree)\n",
    "energyTotal = node_energy(start_node)\n",
    "\n",
    "# Create empty list to keep track of energy\n",
    "energySim = []\n",
    "energySim.append(energyTotal)\n",
    "\n",
    "# Counter\n",
    "print(\"Initial Energy:\", energySim[0])\n",
    "\n",
    "# Start loop\n",
    "print(\"---\")\n",
    "print(\"Start simulation...\")\n",
    "node, energySim = minimise_energy(start_node, energySim)\n",
    "print(\"Energy:\", energySim)\n",
    "print(\"Final node:\", node)"
   ]
  },
  {
   "cell_type": "code",
   "execution_count": null,
   "id": "2f3ea8a2",
   "metadata": {},
   "outputs": [],
   "source": []
  },
  {
   "cell_type": "code",
   "execution_count": 83,
   "id": "001dd669",
   "metadata": {},
   "outputs": [
    {
     "data": {
      "text/plain": [
       "False"
      ]
     },
     "execution_count": 83,
     "metadata": {},
     "output_type": "execute_result"
    }
   ],
   "source": [
    "start_node\n",
    "node_energy(node+1)\n",
    "node_energy(node+1) < energySim[2-1]"
   ]
  },
  {
   "cell_type": "code",
   "execution_count": 65,
   "id": "60d3d45e",
   "metadata": {},
   "outputs": [],
   "source": [
    "def minimise_energy(node, eSim):\n",
    "    \n",
    "    i = 0\n",
    "    \n",
    "    if node > 50:\n",
    "        node = node - 5\n",
    "        e = node_energy(node)\n",
    "        print(e)\n",
    "        energySim.append(e)\n",
    "        i += 1\n",
    "\n",
    "        while e < eSim[i-1]:\n",
    "            print(\"Here\")\n",
    "            node = node - 5\n",
    "            e = node_energy(node)\n",
    "            eSim.append(e)\n",
    "            i += 1\n",
    "            print(i, e)\n",
    "        \n",
    "        if node_energy(node+1) < eSim[i]:\n",
    "            print(\"Made it\")\n",
    "            node = node + 1\n",
    "            e = node_energy(node)\n",
    "            eSim.append(e)\n",
    "            i += 1\n",
    "            \n",
    "            while e < eSim[i-1]:\n",
    "                node = node + 1\n",
    "                e = node_energy(node)\n",
    "                eSim.append(e)\n",
    "                i += 1\n",
    "        \n",
    "    else:\n",
    "        node = node + 5\n",
    "        e = node_energy(node)\n",
    "        eSim.append(e)\n",
    "        i += 1\n",
    "\n",
    "        while e < eSim[i]:\n",
    "            node = node + 5\n",
    "            e = node_energy(node)\n",
    "            eSim.append(e)\n",
    "            i += 1\n",
    "            \n",
    "        if node_energy(node-1) < eSim[i]:\n",
    "            print(\"Made it\")\n",
    "            node = node - 1\n",
    "            e = node_energy(node)\n",
    "            eSim.append(e)\n",
    "            i += 1\n",
    "            \n",
    "            while e < eSim[i-1]:\n",
    "                node = node - 1\n",
    "                e = node_energy(node)\n",
    "                eSim.append(e)\n",
    "                i += 1\n",
    "\n",
    "    return node, eSim"
   ]
  },
  {
   "cell_type": "code",
   "execution_count": null,
   "id": "6844065b",
   "metadata": {},
   "outputs": [],
   "source": []
  },
  {
   "cell_type": "code",
   "execution_count": null,
   "id": "e49ff3d7",
   "metadata": {},
   "outputs": [],
   "source": []
  },
  {
   "cell_type": "code",
   "execution_count": null,
   "id": "eff96a99",
   "metadata": {},
   "outputs": [],
   "source": []
  },
  {
   "cell_type": "code",
   "execution_count": null,
   "id": "41784752",
   "metadata": {},
   "outputs": [],
   "source": []
  },
  {
   "cell_type": "code",
   "execution_count": null,
   "id": "7352e24c",
   "metadata": {},
   "outputs": [],
   "source": []
  },
  {
   "cell_type": "code",
   "execution_count": null,
   "id": "762d209f",
   "metadata": {},
   "outputs": [],
   "source": []
  },
  {
   "cell_type": "code",
   "execution_count": null,
   "id": "aee5a569",
   "metadata": {},
   "outputs": [],
   "source": []
  },
  {
   "cell_type": "code",
   "execution_count": null,
   "id": "bcece817",
   "metadata": {},
   "outputs": [],
   "source": []
  },
  {
   "cell_type": "code",
   "execution_count": 95,
   "id": "4878417d",
   "metadata": {},
   "outputs": [
    {
     "name": "stdout",
     "output_type": "stream",
     "text": [
      "51.6129032258064\n",
      "51.6129032258064\n",
      "20.0\n"
     ]
    }
   ],
   "source": [
    "# Initialise 2016 node and edges\n",
    "\n",
    "node = tree[1]\n",
    "print(node)\n",
    "\n",
    "edgeUnary = tree[1]\n",
    "print(edgeUnary)\n",
    "edgeNextYear = tree[2]\n",
    "print(edgeNextYear)\n"
   ]
  },
  {
   "cell_type": "code",
   "execution_count": 96,
   "id": "bcf4dcb1",
   "metadata": {},
   "outputs": [
    {
     "name": "stdout",
     "output_type": "stream",
     "text": [
      "Total energy: 999.3756503642006\n"
     ]
    }
   ],
   "source": [
    "# Describe edges of 2016\n",
    "\n",
    "# Actual difference\n",
    "#print(node - edgeUnary)\n",
    "#print(node - edgeNextYear)\n",
    "\n",
    "# Squared-difference\n",
    "energyUnary = (node - edgeUnary)**2\n",
    "energyNextYear = (node - edgeNextYear)**2\n",
    "\n",
    "\n",
    "#print(energyUnary)\n",
    "#print(energyNextYear)\n",
    "\n",
    "# Energy\n",
    "energySim = []\n",
    "energyTotal = energyUnary + energyNextYear\n",
    "print(\"Total energy:\", energyTotal)\n",
    "energySim.append(energyTotal)\n",
    "\n",
    "# Counter\n",
    "i = 0"
   ]
  },
  {
   "cell_type": "code",
   "execution_count": 97,
   "id": "4725ffb6",
   "metadata": {},
   "outputs": [
    {
     "data": {
      "text/plain": [
       "999.3756503642006"
      ]
     },
     "execution_count": 97,
     "metadata": {},
     "output_type": "execute_result"
    }
   ],
   "source": [
    "energySim[i]\n"
   ]
  },
  {
   "cell_type": "code",
   "execution_count": 99,
   "id": "dfba578f",
   "metadata": {},
   "outputs": [
    {
     "name": "stdout",
     "output_type": "stream",
     "text": [
      "Total energy: 500.9885535900086\n",
      "[999.3756503642006, 733.2466181061366, 567.1175858480726, 500.9885535900086, 534.8595213319446, 500.9885535900086]\n",
      "36.6129032258064\n"
     ]
    }
   ],
   "source": [
    "if node > 50:\n",
    "    node = node - 5\n",
    "    e = node_energy(node)\n",
    "    #print(e)\n",
    "    energySim.append(e)\n",
    "    i += 1\n",
    "    \n",
    "    while e < energySim[i-1]:\n",
    "        print(e, energySim[i-1])\n",
    "        node = node - 5\n",
    "        e = node_energy(node)\n",
    "        energySim.append(e)\n",
    "        i += 1\n",
    "    \n",
    "else:\n",
    "    node = node + 5\n",
    "    e = node_energy(node)\n",
    "    energySim.append(e)\n",
    "    i += 1\n",
    "    \n",
    "    while e < energySim[i]:\n",
    "        node = node + 5\n",
    "        e = node_energy(node)\n",
    "        energySim.append(e)\n",
    "        i += 1\n",
    "    \n",
    "#node\n",
    "print(energySim)\n",
    "print(node)"
   ]
  },
  {
   "cell_type": "code",
   "execution_count": 72,
   "id": "fe8d7f8a",
   "metadata": {},
   "outputs": [
    {
     "data": {
      "text/plain": [
       "999.3756503642006"
      ]
     },
     "execution_count": 72,
     "metadata": {},
     "output_type": "execute_result"
    }
   ],
   "source": []
  },
  {
   "cell_type": "code",
   "execution_count": null,
   "id": "840aedeb",
   "metadata": {},
   "outputs": [],
   "source": []
  },
  {
   "cell_type": "code",
   "execution_count": 67,
   "id": "e4429449",
   "metadata": {},
   "outputs": [],
   "source": [
    "def node_energy(node):\n",
    "    \n",
    "    # Squared-difference\n",
    "    energyUnary = (node - edgeUnary)**2\n",
    "    energyNextYear = (node - edgeNextYear)**2\n",
    "\n",
    "    #print(energyUnary)\n",
    "    #print(energyNextYear)\n",
    "\n",
    "    # Energy\n",
    "    energyTotal = energyUnary + energyNextYear\n",
    "    print(\"Total energy:\", energyTotal)\n",
    "    \n",
    "    return(energyTotal)"
   ]
  },
  {
   "cell_type": "code",
   "execution_count": null,
   "id": "48fca5ab",
   "metadata": {},
   "outputs": [],
   "source": []
  },
  {
   "cell_type": "code",
   "execution_count": null,
   "id": "7613a514",
   "metadata": {},
   "outputs": [],
   "source": [
    "def optimise_node2015(node2015, edges, plot=False):\n",
    "\n",
    "    # describe edges\n",
    "    # 2 edges: rf2015 + node2016\n",
    "    e = calc_energy(node2015, edges)\n",
    "    \n",
    "    # Create empty list to keep track of energy\n",
    "    eSim = []\n",
    "    eSim.append(e)\n",
    "    #print(\"Initial Energy:\", eSim[0])\n",
    "\n",
    "    #print(\"Start simulation...\")\n",
    "    node2015, eSim = minimise_energy(node2015, edges, eSim)\n",
    "    #print(\"New node:\", node2015)\n",
    "    #print(\"Energy:\", eSim)\n",
    "    \n",
    "    if plot==True:\n",
    "        #print(\"Plotting energy\")\n",
    "\n",
    "        ys = eSim\n",
    "        xs = [x for x in range(len(ys))]\n",
    "\n",
    "        plt.plot(xs, ys)\n",
    "\n",
    "        # Make sure to close the plt object once done\n",
    "        #plt.close()\n",
    "    \n",
    "    return node2015, eSim\n"
   ]
  },
  {
   "cell_type": "code",
   "execution_count": null,
   "id": "e8408230",
   "metadata": {},
   "outputs": [],
   "source": []
  },
  {
   "cell_type": "code",
   "execution_count": null,
   "id": "3352e810",
   "metadata": {},
   "outputs": [],
   "source": []
  },
  {
   "cell_type": "code",
   "execution_count": null,
   "id": "fa99a1c5",
   "metadata": {},
   "outputs": [],
   "source": []
  }
 ],
 "metadata": {
  "kernelspec": {
   "display_name": "Python 3",
   "language": "python",
   "name": "python3"
  },
  "language_info": {
   "codemirror_mode": {
    "name": "ipython",
    "version": 3
   },
   "file_extension": ".py",
   "mimetype": "text/x-python",
   "name": "python",
   "nbconvert_exporter": "python",
   "pygments_lexer": "ipython3",
   "version": "3.8.8"
  }
 },
 "nbformat": 4,
 "nbformat_minor": 5
}
