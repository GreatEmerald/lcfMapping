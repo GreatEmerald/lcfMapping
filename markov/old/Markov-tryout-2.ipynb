{
 "cells": [
  {
   "cell_type": "code",
   "execution_count": 1,
   "id": "f8be720b",
   "metadata": {},
   "outputs": [],
   "source": [
    "# Import relevant packages\n",
    "import os\n",
    "import pandas as pd\n",
    "import numpy as np"
   ]
  },
  {
   "cell_type": "code",
   "execution_count": 2,
   "id": "d5a4763e",
   "metadata": {},
   "outputs": [
    {
     "data": {
      "text/plain": [
       "'C:\\\\Users\\\\robur\\\\Documents\\\\Thesis\\\\code\\\\lcfMapping'"
      ]
     },
     "execution_count": 2,
     "metadata": {},
     "output_type": "execute_result"
    }
   ],
   "source": [
    "os.getcwd()"
   ]
  },
  {
   "cell_type": "code",
   "execution_count": 3,
   "id": "9df5c69c",
   "metadata": {},
   "outputs": [
    {
     "data": {
      "text/html": [
       "<div>\n",
       "<style scoped>\n",
       "    .dataframe tbody tr th:only-of-type {\n",
       "        vertical-align: middle;\n",
       "    }\n",
       "\n",
       "    .dataframe tbody tr th {\n",
       "        vertical-align: top;\n",
       "    }\n",
       "\n",
       "    .dataframe thead th {\n",
       "        text-align: right;\n",
       "    }\n",
       "</style>\n",
       "<table border=\"1\" class=\"dataframe\">\n",
       "  <thead>\n",
       "    <tr style=\"text-align: right;\">\n",
       "      <th></th>\n",
       "      <th>tree</th>\n",
       "      <th>shrub</th>\n",
       "      <th>grassland</th>\n",
       "      <th>crops</th>\n",
       "      <th>urban_built_up</th>\n",
       "      <th>bare</th>\n",
       "      <th>water</th>\n",
       "    </tr>\n",
       "  </thead>\n",
       "  <tbody>\n",
       "    <tr>\n",
       "      <th>0</th>\n",
       "      <td>0.000000</td>\n",
       "      <td>3.571429</td>\n",
       "      <td>96.428571</td>\n",
       "      <td>0.000000</td>\n",
       "      <td>0.0</td>\n",
       "      <td>0.000000</td>\n",
       "      <td>0.000000</td>\n",
       "    </tr>\n",
       "    <tr>\n",
       "      <th>1</th>\n",
       "      <td>61.764706</td>\n",
       "      <td>0.000000</td>\n",
       "      <td>38.235294</td>\n",
       "      <td>0.000000</td>\n",
       "      <td>0.0</td>\n",
       "      <td>0.000000</td>\n",
       "      <td>0.000000</td>\n",
       "    </tr>\n",
       "    <tr>\n",
       "      <th>2</th>\n",
       "      <td>0.000000</td>\n",
       "      <td>17.142857</td>\n",
       "      <td>65.714286</td>\n",
       "      <td>0.000000</td>\n",
       "      <td>0.0</td>\n",
       "      <td>17.142857</td>\n",
       "      <td>0.000000</td>\n",
       "    </tr>\n",
       "    <tr>\n",
       "      <th>3</th>\n",
       "      <td>0.000000</td>\n",
       "      <td>63.636364</td>\n",
       "      <td>9.090909</td>\n",
       "      <td>0.000000</td>\n",
       "      <td>0.0</td>\n",
       "      <td>27.272727</td>\n",
       "      <td>0.000000</td>\n",
       "    </tr>\n",
       "    <tr>\n",
       "      <th>4</th>\n",
       "      <td>34.285714</td>\n",
       "      <td>5.714286</td>\n",
       "      <td>60.000000</td>\n",
       "      <td>0.000000</td>\n",
       "      <td>0.0</td>\n",
       "      <td>0.000000</td>\n",
       "      <td>0.000000</td>\n",
       "    </tr>\n",
       "    <tr>\n",
       "      <th>...</th>\n",
       "      <td>...</td>\n",
       "      <td>...</td>\n",
       "      <td>...</td>\n",
       "      <td>...</td>\n",
       "      <td>...</td>\n",
       "      <td>...</td>\n",
       "      <td>...</td>\n",
       "    </tr>\n",
       "    <tr>\n",
       "      <th>30484</th>\n",
       "      <td>100.000000</td>\n",
       "      <td>0.000000</td>\n",
       "      <td>0.000000</td>\n",
       "      <td>0.000000</td>\n",
       "      <td>0.0</td>\n",
       "      <td>0.000000</td>\n",
       "      <td>0.000000</td>\n",
       "    </tr>\n",
       "    <tr>\n",
       "      <th>30485</th>\n",
       "      <td>0.000000</td>\n",
       "      <td>0.000000</td>\n",
       "      <td>0.000000</td>\n",
       "      <td>0.000000</td>\n",
       "      <td>0.0</td>\n",
       "      <td>0.000000</td>\n",
       "      <td>100.000000</td>\n",
       "    </tr>\n",
       "    <tr>\n",
       "      <th>30486</th>\n",
       "      <td>0.000000</td>\n",
       "      <td>0.000000</td>\n",
       "      <td>1.369863</td>\n",
       "      <td>0.000000</td>\n",
       "      <td>0.0</td>\n",
       "      <td>0.000000</td>\n",
       "      <td>98.630137</td>\n",
       "    </tr>\n",
       "    <tr>\n",
       "      <th>30487</th>\n",
       "      <td>0.000000</td>\n",
       "      <td>0.000000</td>\n",
       "      <td>100.000000</td>\n",
       "      <td>0.000000</td>\n",
       "      <td>0.0</td>\n",
       "      <td>0.000000</td>\n",
       "      <td>0.000000</td>\n",
       "    </tr>\n",
       "    <tr>\n",
       "      <th>30488</th>\n",
       "      <td>0.000000</td>\n",
       "      <td>0.000000</td>\n",
       "      <td>6.122449</td>\n",
       "      <td>93.877551</td>\n",
       "      <td>0.0</td>\n",
       "      <td>0.000000</td>\n",
       "      <td>0.000000</td>\n",
       "    </tr>\n",
       "  </tbody>\n",
       "</table>\n",
       "<p>30489 rows × 7 columns</p>\n",
       "</div>"
      ],
      "text/plain": [
       "             tree      shrub   grassland      crops  urban_built_up  \\\n",
       "0        0.000000   3.571429   96.428571   0.000000             0.0   \n",
       "1       61.764706   0.000000   38.235294   0.000000             0.0   \n",
       "2        0.000000  17.142857   65.714286   0.000000             0.0   \n",
       "3        0.000000  63.636364    9.090909   0.000000             0.0   \n",
       "4       34.285714   5.714286   60.000000   0.000000             0.0   \n",
       "...           ...        ...         ...        ...             ...   \n",
       "30484  100.000000   0.000000    0.000000   0.000000             0.0   \n",
       "30485    0.000000   0.000000    0.000000   0.000000             0.0   \n",
       "30486    0.000000   0.000000    1.369863   0.000000             0.0   \n",
       "30487    0.000000   0.000000  100.000000   0.000000             0.0   \n",
       "30488    0.000000   0.000000    6.122449  93.877551             0.0   \n",
       "\n",
       "            bare       water  \n",
       "0       0.000000    0.000000  \n",
       "1       0.000000    0.000000  \n",
       "2      17.142857    0.000000  \n",
       "3      27.272727    0.000000  \n",
       "4       0.000000    0.000000  \n",
       "...          ...         ...  \n",
       "30484   0.000000    0.000000  \n",
       "30485   0.000000  100.000000  \n",
       "30486   0.000000   98.630137  \n",
       "30487   0.000000    0.000000  \n",
       "30488   0.000000    0.000000  \n",
       "\n",
       "[30489 rows x 7 columns]"
      ]
     },
     "execution_count": 3,
     "metadata": {},
     "output_type": "execute_result"
    }
   ],
   "source": [
    "# Read in excel files\n",
    "pred2015 = pd.read_csv(\"../data/output/wurChange/predictions-2015-ndvi-median.csv\")\n",
    "pred2016 = pd.read_csv(\"../data/output/wurChange/predictions-2016-ndvi-median.csv\")\n",
    "pred2017 = pd.read_csv(\"../data/output/wurChange/predictions-2017-ndvi-median.csv\")\n",
    "pred2018 = pd.read_csv(\"../data/output/wurChange/predictions-2018-ndvi-median.csv\")\n",
    "classes = list(pred2015.columns)\n",
    "\n",
    "pred2015"
   ]
  },
  {
   "cell_type": "code",
   "execution_count": 4,
   "id": "4f8b63bc",
   "metadata": {},
   "outputs": [
    {
     "name": "stdout",
     "output_type": "stream",
     "text": [
      "tree\n",
      "shrub\n",
      "grassland\n",
      "crops\n",
      "urban_built_up\n",
      "bare\n",
      "water\n"
     ]
    }
   ],
   "source": [
    "for i in range(len(classes)):\n",
    "    print(classes[i])"
   ]
  },
  {
   "cell_type": "code",
   "execution_count": 4,
   "id": "08a80ca9",
   "metadata": {},
   "outputs": [
    {
     "name": "stdout",
     "output_type": "stream",
     "text": [
      "2015: 61.7647058823529\n",
      "2016: 51.6129032258064\n",
      "2017: 20.0\n",
      "2018: 20.0\n"
     ]
    }
   ],
   "source": [
    "print(\"2015:\", pred2015[\"tree\"][1])\n",
    "print(\"2016:\", pred2016[\"tree\"][1])\n",
    "print(\"2017:\", pred2017[\"tree\"][1])\n",
    "print(\"2018:\", pred2018[\"tree\"][1])"
   ]
  },
  {
   "cell_type": "code",
   "execution_count": 5,
   "id": "70d696aa",
   "metadata": {},
   "outputs": [
    {
     "data": {
      "text/plain": [
       "2015    61.764706\n",
       "2016    51.612903\n",
       "2017    20.000000\n",
       "2018    20.000000\n",
       "Name: 1, dtype: float64"
      ]
     },
     "execution_count": 5,
     "metadata": {},
     "output_type": "execute_result"
    }
   ],
   "source": [
    "tree = pd.concat([pred2015[\"tree\"],pred2016[\"tree\"],pred2017[\"tree\"],pred2018[\"tree\"]], axis=1)\n",
    "tree.columns = ['2015', '2016', '2017', '2018']\n",
    "tree = tree.iloc[1]\n",
    "tree"
   ]
  },
  {
   "cell_type": "code",
   "execution_count": null,
   "id": "e478625b",
   "metadata": {},
   "outputs": [],
   "source": []
  },
  {
   "cell_type": "code",
   "execution_count": null,
   "id": "73123df0",
   "metadata": {},
   "outputs": [],
   "source": []
  },
  {
   "cell_type": "code",
   "execution_count": null,
   "id": "e899a74a",
   "metadata": {},
   "outputs": [],
   "source": [
    "## Start of Markov chain building"
   ]
  },
  {
   "cell_type": "code",
   "execution_count": 85,
   "id": "845aca23",
   "metadata": {},
   "outputs": [],
   "source": [
    "def initialise(lcClass=None):\n",
    "    \n",
    "    node = lcClass[0]\n",
    "    print(\"Node:\", node)\n",
    "    edgeUnary = tree[0]\n",
    "    edgeNextYear = tree[1]\n",
    "    \n",
    "    return node, edgeUnary, edgeNextYear\n",
    "\n",
    "def node_energy2015(node):\n",
    "    \n",
    "    # Squared-difference\n",
    "    energyUnary = (node - edgeUnary)**2\n",
    "    energyNextYear = (node - edgeNextYear)**2\n",
    "\n",
    "    #print(energyUnary)\n",
    "    #print(energyNextYear)\n",
    "\n",
    "    # Energy\n",
    "    energyTotal = energyUnary + energyNextYear\n",
    "    #print(\"Total energy:\", energyTotal)\n",
    "    \n",
    "    return(energyTotal)"
   ]
  },
  {
   "cell_type": "code",
   "execution_count": 84,
   "id": "6dd697e4",
   "metadata": {},
   "outputs": [
    {
     "name": "stdout",
     "output_type": "stream",
     "text": [
      "Node: 61.7647058823529\n",
      "Initial Energy: 103.0590971774646\n",
      "---\n",
      "Start simulation...\n",
      "51.54107061199959\n",
      "Here\n",
      "2 100.02304404653458\n",
      "Made it\n",
      "Energy: [103.0590971774646, 51.54107061199959, 100.02304404653458, 82.32664935962758, 68.63025467272058, 58.93385998581358, 53.237465298906585, 51.54107061199959, 53.84467592509258]\n",
      "Final node: 57.7647058823529\n"
     ]
    }
   ],
   "source": [
    "# Intialise elements\n",
    "start_node, edgeUnary, edgeNextYear =  initialise(tree)\n",
    "energyTotal = node_energy2015(start_node)\n",
    "\n",
    "# Create empty list to keep track of energy\n",
    "energySim = []\n",
    "energySim.append(energyTotal)\n",
    "\n",
    "# Counter\n",
    "print(\"Initial Energy:\", energySim[i])\n",
    "\n",
    "# Start loop\n",
    "print(\"---\")\n",
    "print(\"Start simulation...\")\n",
    "node, energySim = minimise_energy(start_node, energySim)\n",
    "print(\"Energy:\", energySim)\n",
    "print(\"Final node:\", node)"
   ]
  },
  {
   "cell_type": "code",
   "execution_count": null,
   "id": "20c85efd",
   "metadata": {},
   "outputs": [],
   "source": []
  },
  {
   "cell_type": "code",
   "execution_count": 83,
   "id": "3663223b",
   "metadata": {},
   "outputs": [
    {
     "data": {
      "text/plain": [
       "False"
      ]
     },
     "execution_count": 83,
     "metadata": {},
     "output_type": "execute_result"
    }
   ],
   "source": [
    "start_node\n",
    "node_energy(node+1)\n",
    "node_energy(node+1) < energySim[2-1]"
   ]
  },
  {
   "cell_type": "code",
   "execution_count": 82,
   "id": "18a7e321",
   "metadata": {},
   "outputs": [],
   "source": [
    "def minimise_energy(node, energySim):\n",
    "    \n",
    "    i = 0\n",
    "    \n",
    "    if node > 50:\n",
    "        node = node - 5\n",
    "        e = node_energy2015(node)\n",
    "        print(e)\n",
    "        energySim.append(e)\n",
    "        i += 1\n",
    "\n",
    "        while e < energySim[i-1]:\n",
    "            print(\"Here\")\n",
    "            node = node - 5\n",
    "            e = node_energy(node)\n",
    "            energySim.append(e)\n",
    "            i += 1\n",
    "            print(i, e)\n",
    "        \n",
    "        if node_energy(node+1) < energySim[i]:\n",
    "            print(\"Made it\")\n",
    "            node = node + 1\n",
    "            e = node_energy(node)\n",
    "            energySim.append(e)\n",
    "            i += 1\n",
    "            \n",
    "            while e < energySim[i-1]:\n",
    "                node = node + 1\n",
    "                e = node_energy(node)\n",
    "                energySim.append(e)\n",
    "                i += 1\n",
    "        \n",
    "    else:\n",
    "        node = node + 5\n",
    "        e = node_energy(node)\n",
    "        energySim.append(e)\n",
    "        i += 1\n",
    "\n",
    "        while e < energySim[i]:\n",
    "            node = node + 5\n",
    "            e = node_energy(node)\n",
    "            energySim.append(e)\n",
    "            i += 1\n",
    "            \n",
    "        if node_energy(node-1) < energySim[i]:\n",
    "            print(\"Made it\")\n",
    "            node = node - 1\n",
    "            e = node_energy(node)\n",
    "            energySim.append(e)\n",
    "            i += 1\n",
    "            \n",
    "            while e < energySim[i-1]:\n",
    "                node = node - 1\n",
    "                e = node_energy(node)\n",
    "                energySim.append(e)\n",
    "                i += 1\n",
    "\n",
    "    return node, energySim"
   ]
  },
  {
   "cell_type": "code",
   "execution_count": null,
   "id": "16e32b27",
   "metadata": {},
   "outputs": [],
   "source": []
  },
  {
   "cell_type": "code",
   "execution_count": null,
   "id": "2c036f41",
   "metadata": {},
   "outputs": [],
   "source": []
  },
  {
   "cell_type": "code",
   "execution_count": null,
   "id": "c1a5b404",
   "metadata": {},
   "outputs": [],
   "source": []
  },
  {
   "cell_type": "code",
   "execution_count": null,
   "id": "169502fc",
   "metadata": {},
   "outputs": [],
   "source": []
  },
  {
   "cell_type": "code",
   "execution_count": null,
   "id": "8c3b1cc5",
   "metadata": {},
   "outputs": [],
   "source": []
  },
  {
   "cell_type": "code",
   "execution_count": null,
   "id": "6a5aea7b",
   "metadata": {},
   "outputs": [],
   "source": []
  },
  {
   "cell_type": "code",
   "execution_count": null,
   "id": "f1e5de30",
   "metadata": {},
   "outputs": [],
   "source": []
  },
  {
   "cell_type": "code",
   "execution_count": null,
   "id": "35a2a5fe",
   "metadata": {},
   "outputs": [],
   "source": []
  },
  {
   "cell_type": "code",
   "execution_count": 95,
   "id": "4878417d",
   "metadata": {},
   "outputs": [
    {
     "name": "stdout",
     "output_type": "stream",
     "text": [
      "51.6129032258064\n",
      "51.6129032258064\n",
      "20.0\n"
     ]
    }
   ],
   "source": [
    "# Initialise 2016 node and edges\n",
    "\n",
    "node = tree[1]\n",
    "print(node)\n",
    "\n",
    "edgeUnary = tree[1]\n",
    "print(edgeUnary)\n",
    "edgeNextYear = tree[2]\n",
    "print(edgeNextYear)\n"
   ]
  },
  {
   "cell_type": "code",
   "execution_count": 96,
   "id": "bcf4dcb1",
   "metadata": {},
   "outputs": [
    {
     "name": "stdout",
     "output_type": "stream",
     "text": [
      "Total energy: 999.3756503642006\n"
     ]
    }
   ],
   "source": [
    "# Describe edges of 2016\n",
    "\n",
    "# Actual difference\n",
    "#print(node - edgeUnary)\n",
    "#print(node - edgeNextYear)\n",
    "\n",
    "# Squared-difference\n",
    "energyUnary = (node - edgeUnary)**2\n",
    "energyNextYear = (node - edgeNextYear)**2\n",
    "\n",
    "\n",
    "#print(energyUnary)\n",
    "#print(energyNextYear)\n",
    "\n",
    "# Energy\n",
    "energySim = []\n",
    "energyTotal = energyUnary + energyNextYear\n",
    "print(\"Total energy:\", energyTotal)\n",
    "energySim.append(energyTotal)\n",
    "\n",
    "# Counter\n",
    "i = 0"
   ]
  },
  {
   "cell_type": "code",
   "execution_count": 97,
   "id": "4725ffb6",
   "metadata": {},
   "outputs": [
    {
     "data": {
      "text/plain": [
       "999.3756503642006"
      ]
     },
     "execution_count": 97,
     "metadata": {},
     "output_type": "execute_result"
    }
   ],
   "source": [
    "energySim[i]\n"
   ]
  },
  {
   "cell_type": "code",
   "execution_count": 99,
   "id": "dfba578f",
   "metadata": {},
   "outputs": [
    {
     "name": "stdout",
     "output_type": "stream",
     "text": [
      "Total energy: 500.9885535900086\n",
      "[999.3756503642006, 733.2466181061366, 567.1175858480726, 500.9885535900086, 534.8595213319446, 500.9885535900086]\n",
      "36.6129032258064\n"
     ]
    }
   ],
   "source": [
    "if node > 50:\n",
    "    node = node - 5\n",
    "    e = node_energy(node)\n",
    "    #print(e)\n",
    "    energySim.append(e)\n",
    "    i += 1\n",
    "    \n",
    "    while e < energySim[i-1]:\n",
    "        print(e, energySim[i-1])\n",
    "        node = node - 5\n",
    "        e = node_energy(node)\n",
    "        energySim.append(e)\n",
    "        i += 1\n",
    "    \n",
    "else:\n",
    "    node = node + 5\n",
    "    e = node_energy(node)\n",
    "    energySim.append(e)\n",
    "    i += 1\n",
    "    \n",
    "    while e < energySim[i]:\n",
    "        node = node + 5\n",
    "        e = node_energy(node)\n",
    "        energySim.append(e)\n",
    "        i += 1\n",
    "    \n",
    "#node\n",
    "print(energySim)\n",
    "print(node)"
   ]
  },
  {
   "cell_type": "code",
   "execution_count": 72,
   "id": "fe8d7f8a",
   "metadata": {},
   "outputs": [
    {
     "data": {
      "text/plain": [
       "999.3756503642006"
      ]
     },
     "execution_count": 72,
     "metadata": {},
     "output_type": "execute_result"
    }
   ],
   "source": []
  },
  {
   "cell_type": "code",
   "execution_count": null,
   "id": "840aedeb",
   "metadata": {},
   "outputs": [],
   "source": []
  },
  {
   "cell_type": "code",
   "execution_count": 67,
   "id": "e4429449",
   "metadata": {},
   "outputs": [],
   "source": [
    "def node_energy(node):\n",
    "    \n",
    "    # Squared-difference\n",
    "    energyUnary = (node - edgeUnary)**2\n",
    "    energyNextYear = (node - edgeNextYear)**2\n",
    "\n",
    "    #print(energyUnary)\n",
    "    #print(energyNextYear)\n",
    "\n",
    "    # Energy\n",
    "    energyTotal = energyUnary + energyNextYear\n",
    "    print(\"Total energy:\", energyTotal)\n",
    "    \n",
    "    return(energyTotal)"
   ]
  },
  {
   "cell_type": "code",
   "execution_count": null,
   "id": "48fca5ab",
   "metadata": {},
   "outputs": [],
   "source": []
  },
  {
   "cell_type": "code",
   "execution_count": null,
   "id": "7613a514",
   "metadata": {},
   "outputs": [],
   "source": []
  },
  {
   "cell_type": "code",
   "execution_count": null,
   "id": "e8408230",
   "metadata": {},
   "outputs": [],
   "source": []
  },
  {
   "cell_type": "code",
   "execution_count": null,
   "id": "3352e810",
   "metadata": {},
   "outputs": [],
   "source": []
  },
  {
   "cell_type": "code",
   "execution_count": null,
   "id": "fa99a1c5",
   "metadata": {},
   "outputs": [],
   "source": []
  }
 ],
 "metadata": {
  "kernelspec": {
   "display_name": "Python 3",
   "language": "python",
   "name": "python3"
  },
  "language_info": {
   "codemirror_mode": {
    "name": "ipython",
    "version": 3
   },
   "file_extension": ".py",
   "mimetype": "text/x-python",
   "name": "python",
   "nbconvert_exporter": "python",
   "pygments_lexer": "ipython3",
   "version": "3.8.8"
  }
 },
 "nbformat": 4,
 "nbformat_minor": 5
}
