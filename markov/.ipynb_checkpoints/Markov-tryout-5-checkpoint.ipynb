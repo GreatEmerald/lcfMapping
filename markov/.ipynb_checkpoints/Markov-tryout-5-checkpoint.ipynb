{
 "cells": [
  {
   "cell_type": "code",
   "execution_count": 1,
   "id": "f8be720b",
   "metadata": {},
   "outputs": [],
   "source": [
    "# Import relevant packages\n",
    "import os\n",
    "import pandas as pd\n",
    "import numpy as np\n",
    "import matplotlib.pyplot as plt\n",
    "from itertools import chain"
   ]
  },
  {
   "cell_type": "code",
   "execution_count": 2,
   "id": "d5a4763e",
   "metadata": {},
   "outputs": [
    {
     "data": {
      "text/plain": [
       "'C:\\\\Users\\\\robur\\\\Documents\\\\Thesis\\\\code\\\\lcfMapping\\\\markov'"
      ]
     },
     "execution_count": 2,
     "metadata": {},
     "output_type": "execute_result"
    }
   ],
   "source": [
    "os.getcwd()"
   ]
  },
  {
   "cell_type": "code",
   "execution_count": 4,
   "id": "9df5c69c",
   "metadata": {},
   "outputs": [
    {
     "data": {
      "text/html": [
       "<div>\n",
       "<style scoped>\n",
       "    .dataframe tbody tr th:only-of-type {\n",
       "        vertical-align: middle;\n",
       "    }\n",
       "\n",
       "    .dataframe tbody tr th {\n",
       "        vertical-align: top;\n",
       "    }\n",
       "\n",
       "    .dataframe thead th {\n",
       "        text-align: right;\n",
       "    }\n",
       "</style>\n",
       "<table border=\"1\" class=\"dataframe\">\n",
       "  <thead>\n",
       "    <tr style=\"text-align: right;\">\n",
       "      <th></th>\n",
       "      <th>tree</th>\n",
       "      <th>shrub</th>\n",
       "      <th>grassland</th>\n",
       "      <th>crops</th>\n",
       "      <th>urban_built_up</th>\n",
       "      <th>bare</th>\n",
       "      <th>water</th>\n",
       "    </tr>\n",
       "  </thead>\n",
       "  <tbody>\n",
       "    <tr>\n",
       "      <th>0</th>\n",
       "      <td>0.000000</td>\n",
       "      <td>3.571429</td>\n",
       "      <td>96.428571</td>\n",
       "      <td>0.000000</td>\n",
       "      <td>0.0</td>\n",
       "      <td>0.000000</td>\n",
       "      <td>0.000000</td>\n",
       "    </tr>\n",
       "    <tr>\n",
       "      <th>1</th>\n",
       "      <td>61.764706</td>\n",
       "      <td>0.000000</td>\n",
       "      <td>38.235294</td>\n",
       "      <td>0.000000</td>\n",
       "      <td>0.0</td>\n",
       "      <td>0.000000</td>\n",
       "      <td>0.000000</td>\n",
       "    </tr>\n",
       "    <tr>\n",
       "      <th>2</th>\n",
       "      <td>0.000000</td>\n",
       "      <td>17.142857</td>\n",
       "      <td>65.714286</td>\n",
       "      <td>0.000000</td>\n",
       "      <td>0.0</td>\n",
       "      <td>17.142857</td>\n",
       "      <td>0.000000</td>\n",
       "    </tr>\n",
       "    <tr>\n",
       "      <th>3</th>\n",
       "      <td>0.000000</td>\n",
       "      <td>63.636364</td>\n",
       "      <td>9.090909</td>\n",
       "      <td>0.000000</td>\n",
       "      <td>0.0</td>\n",
       "      <td>27.272727</td>\n",
       "      <td>0.000000</td>\n",
       "    </tr>\n",
       "    <tr>\n",
       "      <th>4</th>\n",
       "      <td>34.285714</td>\n",
       "      <td>5.714286</td>\n",
       "      <td>60.000000</td>\n",
       "      <td>0.000000</td>\n",
       "      <td>0.0</td>\n",
       "      <td>0.000000</td>\n",
       "      <td>0.000000</td>\n",
       "    </tr>\n",
       "    <tr>\n",
       "      <th>...</th>\n",
       "      <td>...</td>\n",
       "      <td>...</td>\n",
       "      <td>...</td>\n",
       "      <td>...</td>\n",
       "      <td>...</td>\n",
       "      <td>...</td>\n",
       "      <td>...</td>\n",
       "    </tr>\n",
       "    <tr>\n",
       "      <th>30484</th>\n",
       "      <td>100.000000</td>\n",
       "      <td>0.000000</td>\n",
       "      <td>0.000000</td>\n",
       "      <td>0.000000</td>\n",
       "      <td>0.0</td>\n",
       "      <td>0.000000</td>\n",
       "      <td>0.000000</td>\n",
       "    </tr>\n",
       "    <tr>\n",
       "      <th>30485</th>\n",
       "      <td>0.000000</td>\n",
       "      <td>0.000000</td>\n",
       "      <td>0.000000</td>\n",
       "      <td>0.000000</td>\n",
       "      <td>0.0</td>\n",
       "      <td>0.000000</td>\n",
       "      <td>100.000000</td>\n",
       "    </tr>\n",
       "    <tr>\n",
       "      <th>30486</th>\n",
       "      <td>0.000000</td>\n",
       "      <td>0.000000</td>\n",
       "      <td>1.369863</td>\n",
       "      <td>0.000000</td>\n",
       "      <td>0.0</td>\n",
       "      <td>0.000000</td>\n",
       "      <td>98.630137</td>\n",
       "    </tr>\n",
       "    <tr>\n",
       "      <th>30487</th>\n",
       "      <td>0.000000</td>\n",
       "      <td>0.000000</td>\n",
       "      <td>100.000000</td>\n",
       "      <td>0.000000</td>\n",
       "      <td>0.0</td>\n",
       "      <td>0.000000</td>\n",
       "      <td>0.000000</td>\n",
       "    </tr>\n",
       "    <tr>\n",
       "      <th>30488</th>\n",
       "      <td>0.000000</td>\n",
       "      <td>0.000000</td>\n",
       "      <td>6.122449</td>\n",
       "      <td>93.877551</td>\n",
       "      <td>0.0</td>\n",
       "      <td>0.000000</td>\n",
       "      <td>0.000000</td>\n",
       "    </tr>\n",
       "  </tbody>\n",
       "</table>\n",
       "<p>30489 rows × 7 columns</p>\n",
       "</div>"
      ],
      "text/plain": [
       "             tree      shrub   grassland      crops  urban_built_up  \\\n",
       "0        0.000000   3.571429   96.428571   0.000000             0.0   \n",
       "1       61.764706   0.000000   38.235294   0.000000             0.0   \n",
       "2        0.000000  17.142857   65.714286   0.000000             0.0   \n",
       "3        0.000000  63.636364    9.090909   0.000000             0.0   \n",
       "4       34.285714   5.714286   60.000000   0.000000             0.0   \n",
       "...           ...        ...         ...        ...             ...   \n",
       "30484  100.000000   0.000000    0.000000   0.000000             0.0   \n",
       "30485    0.000000   0.000000    0.000000   0.000000             0.0   \n",
       "30486    0.000000   0.000000    1.369863   0.000000             0.0   \n",
       "30487    0.000000   0.000000  100.000000   0.000000             0.0   \n",
       "30488    0.000000   0.000000    6.122449  93.877551             0.0   \n",
       "\n",
       "            bare       water  \n",
       "0       0.000000    0.000000  \n",
       "1       0.000000    0.000000  \n",
       "2      17.142857    0.000000  \n",
       "3      27.272727    0.000000  \n",
       "4       0.000000    0.000000  \n",
       "...          ...         ...  \n",
       "30484   0.000000    0.000000  \n",
       "30485   0.000000  100.000000  \n",
       "30486   0.000000   98.630137  \n",
       "30487   0.000000    0.000000  \n",
       "30488   0.000000    0.000000  \n",
       "\n",
       "[30489 rows x 7 columns]"
      ]
     },
     "execution_count": 4,
     "metadata": {},
     "output_type": "execute_result"
    }
   ],
   "source": [
    "# Read in excel files\n",
    "pred2015 = pd.read_csv(\"../../data/output/wurChange/predictions-2015-ndvi-median.csv\")\n",
    "pred2016 = pd.read_csv(\"../../data/output/wurChange/predictions-2016-ndvi-median.csv\")\n",
    "pred2017 = pd.read_csv(\"../../data/output/wurChange/predictions-2017-ndvi-median.csv\")\n",
    "pred2018 = pd.read_csv(\"../../data/output/wurChange/predictions-2018-ndvi-median.csv\")\n",
    "classes = list(pred2015.columns)\n",
    "\n",
    "pred2015"
   ]
  },
  {
   "cell_type": "code",
   "execution_count": 5,
   "id": "4f8b63bc",
   "metadata": {},
   "outputs": [
    {
     "name": "stdout",
     "output_type": "stream",
     "text": [
      "tree\n",
      "shrub\n",
      "grassland\n",
      "crops\n",
      "urban_built_up\n",
      "bare\n",
      "water\n"
     ]
    }
   ],
   "source": [
    "for i in range(len(classes)):\n",
    "    print(classes[i])"
   ]
  },
  {
   "cell_type": "code",
   "execution_count": null,
   "id": "08a80ca9",
   "metadata": {},
   "outputs": [],
   "source": []
  },
  {
   "cell_type": "code",
   "execution_count": 8,
   "id": "70d696aa",
   "metadata": {},
   "outputs": [
    {
     "name": "stdout",
     "output_type": "stream",
     "text": [
      "2015: 12.5\n",
      "2016: 15.8536585365854\n",
      "2017: 22.6415094339623\n",
      "2018: 22.9508196721311\n"
     ]
    }
   ],
   "source": [
    "print(\"2015:\", pred2015.iloc[i][j])\n",
    "print(\"2016:\", pred2016.iloc[i][j])\n",
    "print(\"2017:\", pred2017.iloc[i][j])\n",
    "print(\"2018:\", pred2018.iloc[i][j])"
   ]
  },
  {
   "cell_type": "code",
   "execution_count": null,
   "id": "a9315c1f",
   "metadata": {},
   "outputs": [],
   "source": []
  },
  {
   "cell_type": "code",
   "execution_count": null,
   "id": "99a290c8",
   "metadata": {},
   "outputs": [],
   "source": []
  },
  {
   "cell_type": "code",
   "execution_count": null,
   "id": "721c6534",
   "metadata": {},
   "outputs": [],
   "source": [
    "## Start of Markov chain building"
   ]
  },
  {
   "cell_type": "code",
   "execution_count": null,
   "id": "b25486d2",
   "metadata": {},
   "outputs": [],
   "source": []
  },
  {
   "cell_type": "code",
   "execution_count": null,
   "id": "9602dff5",
   "metadata": {},
   "outputs": [],
   "source": [
    "## Code concept\n",
    "\n",
    "# Concept of all code\n",
    "\"\"\"\n",
    "for 1:30.000 points\n",
    "    \n",
    "    for 1:7 classes:\n",
    "        \n",
    "        for n times:\n",
    "            2015\n",
    "                optimise\n",
    "            2016\n",
    "                optimise\n",
    "            2017\n",
    "                optimise\n",
    "            2018\n",
    "                optimise\n",
    "\"\"\"\n",
    "\n",
    "# Concept of all code with params\n",
    "\"\"\"\n",
    "pred2015\n",
    "pred2016\n",
    "pred2017\n",
    "pred2018\n",
    "\n",
    "for 1:30.000 points (i):\n",
    "    \n",
    "    pred2015.iloc[i]\n",
    "    pred2016.iloc[i]\n",
    "    pred2017.iloc[i]\n",
    "    pred2018.iloc[i]\n",
    "    \n",
    "    for 1:7 classes (j):\n",
    "        pred2015.iloc[i][j]\n",
    "        pred2016.iloc[i][j]\n",
    "        pred2017.iloc[i][j]\n",
    "        pred2018.iloc[i][j]\n",
    "        \n",
    "        for n times:\n",
    "            2015\n",
    "                optimise\n",
    "            2016\n",
    "                optimise\n",
    "            2017\n",
    "                optimise\n",
    "            2018\n",
    "                optimise\n",
    "\"\"\""
   ]
  },
  {
   "cell_type": "code",
   "execution_count": 7,
   "id": "6faa1d40",
   "metadata": {},
   "outputs": [
    {
     "name": "stdout",
     "output_type": "stream",
     "text": [
      "RF-values:\n",
      " 2015: 12.5\n",
      " 2016: 15.8536585365854\n",
      " 2017: 22.6415094339623\n",
      " 2018: 22.9508196721311\n"
     ]
    },
    {
     "ename": "NameError",
     "evalue": "name 'calc_total_energy' is not defined",
     "output_type": "error",
     "traceback": [
      "\u001b[1;31m---------------------------------------------------------------------------\u001b[0m",
      "\u001b[1;31mNameError\u001b[0m                                 Traceback (most recent call last)",
      "\u001b[1;32m<ipython-input-7-265ad9893485>\u001b[0m in \u001b[0;36m<module>\u001b[1;34m\u001b[0m\n\u001b[0;32m     56\u001b[0m \u001b[1;33m\u001b[0m\u001b[0m\n\u001b[0;32m     57\u001b[0m \u001b[0meTotal\u001b[0m \u001b[1;33m=\u001b[0m \u001b[1;33m[\u001b[0m\u001b[1;33m]\u001b[0m\u001b[1;33m\u001b[0m\u001b[1;33m\u001b[0m\u001b[0m\n\u001b[1;32m---> 58\u001b[1;33m eTotal.append(calc_total_energy(nodes = (node2015, node2016, node2017, node2018),\n\u001b[0m\u001b[0;32m     59\u001b[0m                                 edges = ((rf2015,node2016),(rf2016,node2015,node2017),\n\u001b[0;32m     60\u001b[0m                                          (rf2017,node2016,node2018),(rf2018,node2017))))\n",
      "\u001b[1;31mNameError\u001b[0m: name 'calc_total_energy' is not defined"
     ]
    }
   ],
   "source": [
    "\"\"\" \n",
    "for 1:7 classes (j):\n",
    "        pred2015.iloc[i][j]\n",
    "        pred2016.iloc[i][j]\n",
    "        pred2017.iloc[i][j]\n",
    "        pred2018.iloc[i][j]\n",
    "        \n",
    "        for n times:\n",
    "            2015\n",
    "                optimise\n",
    "            2016\n",
    "                optimise\n",
    "            2017\n",
    "                optimise\n",
    "            2018\n",
    "                optimise\n",
    "\"\"\"\n",
    "\n",
    "# for 1:7 classes (j):\n",
    "\n",
    "i=8\n",
    "j=1\n",
    "\n",
    "# initialise\n",
    "rf2015 = pred2015.iloc[i][j]\n",
    "rf2016 = pred2016.iloc[i][j]\n",
    "rf2017 = pred2017.iloc[i][j]\n",
    "rf2018 = pred2018.iloc[i][j]\n",
    "print(\"RF-values:\")\n",
    "print(\" 2015:\", rf2015)\n",
    "print(\" 2016:\", rf2016)\n",
    "print(\" 2017:\", rf2017)\n",
    "print(\" 2018:\", rf2018)\n",
    "\n",
    "node2015 = rf2015\n",
    "node2016 = rf2016\n",
    "node2017 = rf2017\n",
    "node2018 = rf2018\n",
    "\n",
    "edges2015 = (rf2015,node2016)\n",
    "edges2016 = (rf2016,node2015,node2017)\n",
    "edges2017 = (rf2017,node2016,node2018)\n",
    "edges2018 = (rf2018,node2017)\n",
    "\n",
    "stepsize = 1\n",
    "plot = True\n",
    "\n",
    "nodeSim2015 = []\n",
    "nodeSim2016 = []\n",
    "nodeSim2017 = []\n",
    "nodeSim2018 = []\n",
    "nodeSim2015.append(node2015)\n",
    "nodeSim2016.append(node2016)\n",
    "nodeSim2017.append(node2017)\n",
    "nodeSim2018.append(node2018)\n",
    "\n",
    "eTotal = []\n",
    "eTotal.append(calc_total_energy(nodes = (node2015, node2016, node2017, node2018),\n",
    "                                edges = ((rf2015,node2016),(rf2016,node2015,node2017),\n",
    "                                         (rf2017,node2016,node2018),(rf2018,node2017))))\n",
    "e = calc_total_energy(nodes = (node2015, node2016, node2017, node2018),\n",
    "                                edges = ((rf2015,node2016),(rf2016,node2015,node2017),\n",
    "                                         (rf2017,node2016,node2018),(rf2018,node2017)))\n",
    "for k in range(10):\n",
    "\n",
    "#     if k == 2:\n",
    "#         stepsize = 0.1\n",
    "    \n",
    "    if len(eTotal) >= 5 and eTotal[k] == eTotal[k-1] == eTotal[k-2]:\n",
    "        break\n",
    "    \n",
    "    node2015 = optimise_node(node2015, edges=(rf2015,node2016), stepsize=stepsize)\n",
    "    nodeSim2015.append(node2015)\n",
    "    \n",
    "    node2016 = optimise_node(node2016, edges=(rf2016,node2015,node2017), stepsize=stepsize)\n",
    "    nodeSim2016.append(node2016)\n",
    "    \n",
    "    node2017 = optimise_node(node2017, edges=(rf2017,node2016,node2018), stepsize=stepsize)\n",
    "    nodeSim2017.append(node2017)\n",
    "    \n",
    "    node2018 = optimise_node(node2018, edges=(rf2018,node2017), stepsize=stepsize)\n",
    "    nodeSim2018.append(node2018)\n",
    "    \n",
    "    nodes = (node2015, node2016, node2017, node2018)\n",
    "    edges = ((rf2015,node2016),(rf2016,node2015,node2017),(rf2017,node2016,node2018),(rf2018,node2017))\n",
    "    e = calc_total_energy(nodes,edges)\n",
    "    eTotal.append(e)\n",
    "    \n",
    "\n",
    "print(\"\\nAfter smoothing...\")\n",
    "\n",
    "print(\" Final node 2015:\", node2015)\n",
    "print(\" Final node 2016:\", node2016)\n",
    "print(\" Final node 2017:\", node2017)\n",
    "print(\" Final node 2018:\", node2018,\"\\n\")\n",
    "\n",
    "print(\" Node sim 2015:\", [round(elem, 1) for elem in nodeSim2015])\n",
    "print(\" Node sim 2016:\", [round(elem, 1) for elem in nodeSim2016])\n",
    "print(\" Node sim 2017:\", [round(elem, 1) for elem in nodeSim2017])\n",
    "print(\" Node sim 2018:\", [round(elem, 1) for elem in nodeSim2018])\n",
    "print(\" Energy sim\", [round(elem, 1) for elem in eTotal])\n",
    "\n",
    "if plot == True:\n",
    "    plot_simulations(eTotal, nodeSim2015, nodeSim2016, nodeSim2017, nodeSim2018)"
   ]
  },
  {
   "cell_type": "code",
   "execution_count": 240,
   "id": "2761e940",
   "metadata": {},
   "outputs": [],
   "source": [
    "# optimise_node\n",
    "\n",
    "def optimise_node(node, edges, stepsize=5):\n",
    "\n",
    "    # describe edges\n",
    "    # 2 edges: rf2015 + node2016\n",
    "    e = calc_energy(node, edges)\n",
    "    \n",
    "    # Create empty list to keep track of energy\n",
    "    eSim = []\n",
    "    eSim.append(e)\n",
    "    #print(\"Initial Energy:\", eSim[0])\n",
    "\n",
    "    #print(\"Start simulation...\")\n",
    "    node = minimise_energy(node, edges, eSim, stepsize)\n",
    "    #print(\"New node:\", node)\n",
    "    #print(\"Energy:\", eSim)\n",
    "    \n",
    "    \n",
    "    return node"
   ]
  },
  {
   "cell_type": "code",
   "execution_count": 104,
   "id": "66a4402d",
   "metadata": {},
   "outputs": [],
   "source": [
    "def calc_energy(node, edges):\n",
    "    \n",
    "    edge1 = edges[0]\n",
    "    edge2 = edges[1]\n",
    "    \n",
    "    e1 = (node - edge1)**2\n",
    "    e2 = (node - edge2)**2\n",
    "    \n",
    "    if len(edges) == 3:\n",
    "        edge3 = edges[2]\n",
    "        e3 = (node - edge3)**2\n",
    "        return e1 + e2 + e3\n",
    "    \n",
    "    return e1 + e2\n",
    "\n",
    "\n",
    "def minimise_energy(node, edges, eSim, stepsize):\n",
    "    \n",
    "    i = 0\n",
    "    #print(i)\n",
    "    \n",
    "    if calc_energy(node + stepsize, edges) < eSim[i]:\n",
    "        node = node + stepsize\n",
    "        i += 1\n",
    "        eSim.append(calc_energy(node, edges))\n",
    "        \n",
    "        while calc_energy(node + stepsize, edges) < eSim[i]:\n",
    "            node = node + stepsize\n",
    "            i += 1\n",
    "            eSim.append(calc_energy(node,edges))\n",
    "        \n",
    "    elif calc_energy(node - stepsize, edges) < eSim[i]:\n",
    "        node = node - stepsize\n",
    "        i += 1\n",
    "        eSim.append(calc_energy(node, edges))\n",
    "        \n",
    "        while calc_energy(node - stepsize, edges) < eSim[i]:\n",
    "            node = node - stepsize\n",
    "            i += 1\n",
    "            eSim.append(calc_energy(node, edges))\n",
    "    \n",
    "    return node\n",
    "\n",
    "\n",
    "def calc_total_energy(nodes, edges):\n",
    "    \n",
    "    node2015 = nodes[0]\n",
    "    node2016 = nodes[1]\n",
    "    node2017 = nodes[2]\n",
    "    node2018 = nodes[3]\n",
    "    edges2015 = edges[0]\n",
    "    edges2016 = edges[1]\n",
    "    edges2017 = edges[2]\n",
    "    edges2018 = edges[3]\n",
    "    \n",
    "    e2015 = calc_energy(node2015, edges2015)\n",
    "    e2016 = calc_energy(node2016, edges2016)\n",
    "    e2017 = calc_energy(node2017, edges2017)\n",
    "    e2018 = calc_energy(node2018, edges2018)\n",
    "    \n",
    "    return e2015 + e2016 + e2017 + e2018\n",
    "    "
   ]
  },
  {
   "cell_type": "code",
   "execution_count": 237,
   "id": "3a9a38f6",
   "metadata": {},
   "outputs": [],
   "source": [
    "def plot_simulations(eTotal, nodeSim2015, nodeSim2016, nodeSim2017, nodeSim2018):\n",
    "\n",
    "    # Plot energy over iterations\n",
    "    xs = [x for x in range(len(eTotal))]\n",
    "    plt.figure(figsize=(15,6), dpi= 100)\n",
    "    plt.subplot(1, 3, 1)\n",
    "    plt.plot(xs, eTotal)\n",
    "    plt.ylabel('Energy', fontsize=14)\n",
    "    plt.xlabel('Iterations', fontsize=14)\n",
    "\n",
    "    # Plot nodes over iterations\n",
    "    xs = [x for x in range(len(nodeSim2015))]\n",
    "    plt.subplot(1, 3, 2)\n",
    "    plt.plot(xs, nodeSim2015)\n",
    "    plt.plot(xs, nodeSim2016)\n",
    "    plt.plot(xs, nodeSim2017)\n",
    "    plt.plot(xs, nodeSim2018)\n",
    "    plt.ylabel('Fraction', fontsize=14)\n",
    "    plt.xlabel('Iterations', fontsize=14)\n",
    "    plt.legend([\"2015\",\"2016\",\"2017\",\"2018\"], loc=\"upper left\", bbox_to_anchor=(1, 0.5))\n",
    "\n",
    "    xs = [\"2015\",\"2016\",\"2017\",\"2018\"]\n",
    "    yRF = [rf2015,rf2016,rf2017,rf2018]\n",
    "    yNode = [node2015,node2016,node2017,node2018]\n",
    "    plt.subplot(1, 3, 3)\n",
    "    plt.plot(xs, yRF)\n",
    "    plt.plot(xs, yNode)\n",
    "    plt.ylabel('Fractions', fontsize=14)\n",
    "    plt.xlabel('Years', fontsize=14)\n",
    "    plt.legend([\"RF\",\"Smoothed\"], loc=\"upper left\", bbox_to_anchor=(1, 0.5))\n",
    "\n",
    "    plt.tight_layout()\n",
    "    plt.show()"
   ]
  },
  {
   "cell_type": "code",
   "execution_count": 236,
   "id": "de206f63",
   "metadata": {},
   "outputs": [
    {
     "data": {
      "image/png": "[encoded data removed]",
      "text/plain": [
       "<Figure size 1500x600 with 3 Axes>"
      ]
     },
     "metadata": {
      "needs_background": "light"
     },
     "output_type": "display_data"
    }
   ],
   "source": [
    "# Plot energy over iterations\n",
    "ys = eTotal\n",
    "xs = [x for x in range(len(ys))]\n",
    "plt.figure(figsize=(15,6), dpi= 100)\n",
    "plt.subplot(1, 3, 1)\n",
    "plt.plot(xs, ys)\n",
    "plt.ylabel('Energy', fontsize=14)\n",
    "plt.xlabel('Iterations', fontsize=14)\n",
    "\n",
    "xs = [x for x in range(len(nodeSim2015))]\n",
    "plt.subplot(1, 3, 2)\n",
    "plt.plot(xs, nodeSim2015)\n",
    "plt.plot(xs, nodeSim2016)\n",
    "plt.plot(xs, nodeSim2017)\n",
    "plt.plot(xs, nodeSim2018)\n",
    "plt.ylabel('Fraction', fontsize=14)\n",
    "plt.xlabel('Iterations', fontsize=14)\n",
    "plt.legend([\"2015\",\"2016\",\"2017\",\"2018\"], loc=\"upper left\", bbox_to_anchor=(1, 0.5))\n",
    "\n",
    "xs = [\"2015\",\"2016\",\"2017\",\"2018\"]\n",
    "yRF = [rf2015,rf2016,rf2017,rf2018]\n",
    "yNode = [node2015,node2016,node2017,node2018]\n",
    "plt.subplot(1, 3, 3)\n",
    "plt.plot(xs, yRF)\n",
    "plt.plot(xs, yNode)\n",
    "plt.ylabel('Fractions', fontsize=14)\n",
    "plt.xlabel('Years', fontsize=14)\n",
    "plt.legend([\"RF\",\"Smoothed\"], loc=\"upper left\", bbox_to_anchor=(1, 0.5))\n",
    "\n",
    "#plt.figure(figsize=(20, 30))\n",
    "plt.tight_layout()\n",
    "plt.show()"
   ]
  },
  {
   "cell_type": "code",
   "execution_count": 143,
   "id": "af49876d",
   "metadata": {},
   "outputs": [
    {
     "name": "stdout",
     "output_type": "stream",
     "text": [
      "[27.8, 15.8, 14.1, 14.1, 14.1, 14.1, 14.1, 14.1, 14.1, 14.1, 14.1]\n",
      "27.8\n",
      "15.8\n",
      "14.1\n",
      "14.1\n",
      "14.1\n",
      "True\n"
     ]
    }
   ],
   "source": [
    "print([round(elem, 1) for elem in eTotal])\n",
    "test = []\n",
    "for k in range(10):\n",
    "    print(round(eTotal[k],1))\n",
    "    test.append(\"Hi\")\n",
    "    \n",
    "    if len(test) >= 3 and eTotal[k] == eTotal[k-1] == eTotal[k-2]:\n",
    "        print(True)\n",
    "        break"
   ]
  },
  {
   "cell_type": "code",
   "execution_count": null,
   "id": "9f683972",
   "metadata": {},
   "outputs": [],
   "source": []
  },
  {
   "cell_type": "code",
   "execution_count": 154,
   "id": "ca4c9fd8",
   "metadata": {},
   "outputs": [
    {
     "data": {
      "text/plain": [
       "<matplotlib.legend.Legend at 0x216e2f473a0>"
      ]
     },
     "execution_count": 154,
     "metadata": {},
     "output_type": "execute_result"
    },
    {
     "data": {
      "image/png": "[encoded data removed]",
      "text/plain": [
       "<Figure size 432x288 with 1 Axes>"
      ]
     },
     "metadata": {
      "needs_background": "light"
     },
     "output_type": "display_data"
    }
   ],
   "source": [
    "xs = [\"2015\",\"2016\",\"2017\",\"2018\"]\n",
    "yRF = [rf2015,rf2016,rf2017,rf2018]\n",
    "yNode = [node2015,node2016,node2017,node2018]\n",
    "plt.plot(xs, yRF)\n",
    "plt.plot(xs, yNode)\n",
    "plt.legend([\"RF\",\"Smoothed\"], loc=\"upper left\", bbox_to_anchor=(1, 0.5))\n"
   ]
  },
  {
   "cell_type": "code",
   "execution_count": null,
   "id": "b99fdded",
   "metadata": {},
   "outputs": [],
   "source": []
  },
  {
   "cell_type": "code",
   "execution_count": 12,
   "id": "8ea89b5a",
   "metadata": {},
   "outputs": [
    {
     "name": "stdout",
     "output_type": "stream",
     "text": [
      "[1, 2, 3, 4, 5, 6, 7, 8, 9, 10, 11, 12, 13, 14, 15, 16, 17, 18, 19, 20, 21, 22, 23, 24, 25, 26, 27, 28, 29, 30, 31, 32, 33, 34, 35, 36, 37, 38, 39, 40, 41, 42, 43, 44, 45, 46, 47, 48, 49, 50, 51, 52, 53, 54, 55, 56, 57, 58, 59, 60, 61, 62, 63, 64, 65, 66, 67, 68, 69, 70, 71, 72, 73, 74, 75, 76, 77, 78, 79, 80, 81, 82, 83, 84, 85, 86, 87, 88, 89, 90, 91, 92, 93, 94, 95, 96, 97, 98, 99]\n"
     ]
    },
    {
     "data": {
      "text/plain": [
       "Text(0.5, 0, 'Fraction')"
      ]
     },
     "execution_count": 12,
     "metadata": {},
     "output_type": "execute_result"
    },
    {
     "data": {
      "image/png": "[encoded data removed]",
      "text/plain": [
       "<Figure size 432x288 with 1 Axes>"
      ]
     },
     "metadata": {
      "needs_background": "light"
     },
     "output_type": "display_data"
    }
   ],
   "source": [
    "# Test plot energy vs 1:100\n",
    "x = list(range(1,100))\n",
    "print(x)\n",
    "y = []\n",
    "for i in x:\n",
    "    e = calc_energy(i, edges=(rf2015,node2016))\n",
    "    y.append(e)\n",
    "plt.plot(x, y)\n",
    "plt.ylabel('Energy', fontsize=14)\n",
    "plt.xlabel('Fraction', fontsize=14)"
   ]
  },
  {
   "cell_type": "code",
   "execution_count": null,
   "id": "9fcd86bf",
   "metadata": {},
   "outputs": [],
   "source": []
  }
 ],
 "metadata": {
  "kernelspec": {
   "display_name": "Python 3",
   "language": "python",
   "name": "python3"
  },
  "language_info": {
   "codemirror_mode": {
    "name": "ipython",
    "version": 3
   },
   "file_extension": ".py",
   "mimetype": "text/x-python",
   "name": "python",
   "nbconvert_exporter": "python",
   "pygments_lexer": "ipython3",
   "version": "3.8.8"
  }
 },
 "nbformat": 4,
 "nbformat_minor": 5
}
