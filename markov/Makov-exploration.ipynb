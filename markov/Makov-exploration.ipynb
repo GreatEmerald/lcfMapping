{
 "cells": [
  {
   "cell_type": "code",
   "execution_count": 1,
   "id": "9d89526c",
   "metadata": {},
   "outputs": [],
   "source": [
    "# Import relevant packages\n",
    "import os\n",
    "import pandas as pd\n",
    "import numpy as np\n",
    "import matplotlib.pyplot as plt\n",
    "from itertools import chain\n",
    "import time\n",
    "import seaborn as sns\n",
    "import random\n",
    "import math"
   ]
  },
  {
   "cell_type": "code",
   "execution_count": 2,
   "id": "cfc2dfcc",
   "metadata": {},
   "outputs": [
    {
     "data": {
      "text/plain": [
       "'C:\\\\Users\\\\robur\\\\Documents\\\\Thesis\\\\code\\\\lcfMapping\\\\markov'"
      ]
     },
     "execution_count": 2,
     "metadata": {},
     "output_type": "execute_result"
    }
   ],
   "source": [
    "os.getcwd()"
   ]
  },
  {
   "cell_type": "code",
   "execution_count": 3,
   "id": "3fbff20e",
   "metadata": {},
   "outputs": [],
   "source": [
    "# Read in excel files\n",
    "basic2015 = pd.read_csv(\"../../data/output/wurChange/predictions-2015-median.csv\")\n",
    "basic2016 = pd.read_csv(\"../../data/output/wurChange/predictions-2016-median.csv\")\n",
    "basic2017 = pd.read_csv(\"../../data/output/wurChange/predictions-2017-median.csv\")\n",
    "basic2018 = pd.read_csv(\"../../data/output/wurChange/predictions-2018-median.csv\")\n",
    "\n",
    "# Read in recurrent RF files\n",
    "rec2015 = pd.read_csv(\"../../data/output/wurChange/predictions-2015-median-recurrent.csv\")\n",
    "rec2016 = pd.read_csv(\"../../data/output/wurChange/predictions-2016-median-recurrent.csv\")\n",
    "rec2017 = pd.read_csv(\"../../data/output/wurChange/predictions-2017-median-recurrent.csv\")\n",
    "rec2018 = pd.read_csv(\"../../data/output/wurChange/predictions-2018-median-recurrent.csv\")\n",
    "classes = list(basic2015.columns)\n",
    "\n",
    "# Read in markov files\n",
    "markov2015 = pd.read_csv(\"../../data/output/markov/smooth2015-coocc-new-001.csv\")\n",
    "markov2016 = pd.read_csv(\"../../data/output/markov/smooth2016-coocc-new-001.csv\")\n",
    "markov2017 = pd.read_csv(\"../../data/output/markov/smooth2017-coocc-new-001.csv\")\n",
    "markov2018 = pd.read_csv(\"../../data/output/markov/smooth2018-coocc-new-001.csv\")\n",
    "\n",
    "# Read in ground truth data\n",
    "df2015 = pd.read_csv(\"../../data/processed/2015/truth2015.csv\")\n",
    "df2016 = pd.read_csv(\"../../data/processed/2016/truth2016.csv\")\n",
    "df2017 = pd.read_csv(\"../../data/processed/2017/truth2017.csv\")\n",
    "df2018 = pd.read_csv(\"../../data/processed/2018/truth2018.csv\")\n"
   ]
  },
  {
   "cell_type": "code",
   "execution_count": null,
   "id": "7106dbc7",
   "metadata": {},
   "outputs": [],
   "source": []
  },
  {
   "cell_type": "code",
   "execution_count": null,
   "id": "ffe74103",
   "metadata": {},
   "outputs": [],
   "source": []
  },
  {
   "cell_type": "code",
   "execution_count": null,
   "id": "50fcec09",
   "metadata": {},
   "outputs": [],
   "source": []
  },
  {
   "cell_type": "code",
   "execution_count": 32,
   "id": "fa41a102",
   "metadata": {},
   "outputs": [],
   "source": [
    "# Change only\n",
    "\n",
    "df2015 = pd.read_csv(\"../../data/processed/changePoints/ref2015.csv\")\n",
    "df2016 = pd.read_csv(\"../../data/processed/changePoints/ref2016.csv\")\n",
    "df2017 = pd.read_csv(\"../../data/processed/changePoints/ref2017.csv\")\n",
    "df2018 = pd.read_csv(\"../../data/processed/changePoints/ref2018.csv\")\n",
    "\n",
    "df2015 = df2015[df2015.columns.intersection(classes)]\n",
    "df2016 = df2016[df2015.columns.intersection(classes)]\n",
    "df2017 = df2017[df2015.columns.intersection(classes)]\n",
    "df2018 = df2018[df2015.columns.intersection(classes)]\n",
    "\n",
    "basic2015 = pd.read_csv(\"../../data/processed/changePoints/basic2015.csv\")\n",
    "basic2016 = pd.read_csv(\"../../data/processed/changePoints/basic2016.csv\")\n",
    "basic2017 = pd.read_csv(\"../../data/processed/changePoints/basic2017.csv\")\n",
    "basic2018 = pd.read_csv(\"../../data/processed/changePoints/basic2018.csv\")\n",
    "\n",
    "rec2015 = pd.read_csv(\"../../data/processed/changePoints/rec2015.csv\")\n",
    "rec2016 = pd.read_csv(\"../../data/processed/changePoints/rec2016.csv\")\n",
    "rec2017 = pd.read_csv(\"../../data/processed/changePoints/rec2017.csv\")\n",
    "rec2018 = pd.read_csv(\"../../data/processed/changePoints/rec2018.csv\")\n",
    "\n",
    "markov2015 = pd.read_csv(\"../../data/processed/changePoints/markov2015.csv\")\n",
    "markov2016 = pd.read_csv(\"../../data/processed/changePoints/markov2016.csv\")\n",
    "markov2017 = pd.read_csv(\"../../data/processed/changePoints/markov2017.csv\")\n",
    "markov2018 = pd.read_csv(\"../../data/processed/changePoints/markov2018.csv\")"
   ]
  },
  {
   "cell_type": "code",
   "execution_count": null,
   "id": "abee78ee",
   "metadata": {},
   "outputs": [],
   "source": []
  },
  {
   "cell_type": "code",
   "execution_count": null,
   "id": "29e1dab7",
   "metadata": {},
   "outputs": [],
   "source": []
  },
  {
   "cell_type": "code",
   "execution_count": 781,
   "id": "dad812bd",
   "metadata": {},
   "outputs": [
    {
     "data": {
      "text/plain": [
       "1508"
      ]
     },
     "execution_count": 781,
     "metadata": {},
     "output_type": "execute_result"
    }
   ],
   "source": [
    "i"
   ]
  },
  {
   "cell_type": "code",
   "execution_count": 37,
   "id": "272dbcd5",
   "metadata": {},
   "outputs": [],
   "source": [
    "## Good examples (non-change)\n",
    "j=2\n",
    "i=1508\n",
    "\n",
    "#i=25024 rec bad, basic and markov good\n",
    "\n",
    "\n",
    "## Good examples (change only)\n",
    "#i=34 rec bad, markov good (Great example) j=2 grassland\n",
    "#i=1508 rec bad, markov good (Great example) j=3 grassland\n",
    "\n",
    "# Another one to add:\n",
    "#i=3122 stable ground truth, rec best, basic and markov not so good"
   ]
  },
  {
   "cell_type": "code",
   "execution_count": null,
   "id": "cff8f28d",
   "metadata": {},
   "outputs": [],
   "source": [
    "# print(\"Basic:\", round(basic2015.iloc[i][j],1), round(basic2016.iloc[i][j],1), round(basic2017.iloc[i][j],1), round(basic2018.iloc[i][j],1))\n",
    "# print(\"Recur:\", round(rec2015.iloc[i][j],1), round(rec2016.iloc[i][j],1), round(rec2017.iloc[i][j],1), round(rec2018.iloc[i][j],1))\n",
    "# print(\"Marko:\", round(markov2015.iloc[i][j],1), round(markov2016.iloc[i][j],1), round(markov2017.iloc[i][j],1), round(markov2018.iloc[i][j],1))\n",
    "# print(\"Truth:\", round(truth2015.iloc[i][j],1), round(truth2016.iloc[i][j],1), round(truth2017.iloc[i][j],1), round(truth2018.iloc[i][j],1))\n"
   ]
  },
  {
   "cell_type": "code",
   "execution_count": 166,
   "id": "4bed9704",
   "metadata": {
    "scrolled": false
   },
   "outputs": [
    {
     "data": {
      "image/png": "[encoded data removed]",
      "text/plain": [
       "<Figure size 432x288 with 1 Axes>"
      ]
     },
     "metadata": {
      "needs_background": "light"
     },
     "output_type": "display_data"
    },
    {
     "name": "stdout",
     "output_type": "stream",
     "text": [
      "      Truth  Basic  Markov  Recurrent\n",
      "2015     34   21.2    24.2       22.2\n",
      "2016     34   12.1    27.3       22.2\n",
      "2017     34   53.9    45.9       22.2\n",
      "2018     34   66.7    56.7       21.8\n"
     ]
    }
   ],
   "source": [
    "#i=3000\n",
    "j=2\n",
    "i+=1\n",
    "\n",
    "data = [[df2015.iloc[i][j], basic2015.iloc[i][j], markov2015.iloc[i][j], rec2015.iloc[i][j]],\n",
    "        [df2016.iloc[i][j], basic2016.iloc[i][j], markov2016.iloc[i][j], rec2016.iloc[i][j]],\n",
    "        [df2017.iloc[i][j], basic2017.iloc[i][j], markov2017.iloc[i][j], rec2017.iloc[i][j]],\n",
    "        [df2018.iloc[i][j], basic2018.iloc[i][j], markov2018.iloc[i][j], rec2018.iloc[i][j]]]\n",
    "\n",
    "compare = pd.DataFrame(data, index=[2015,2016,2017,2018], columns=[\"Truth\",\"Basic\",\"Markov\",\"Recurrent\"])\n",
    "\n",
    "plot_timeseries(compare)\n",
    "print(round(compare,1))"
   ]
  },
  {
   "cell_type": "code",
   "execution_count": 163,
   "id": "48a1cb7b",
   "metadata": {},
   "outputs": [
    {
     "data": {
      "text/plain": [
       "3122"
      ]
     },
     "execution_count": 163,
     "metadata": {},
     "output_type": "execute_result"
    }
   ],
   "source": [
    "i"
   ]
  },
  {
   "cell_type": "code",
   "execution_count": 778,
   "id": "62afdc4e",
   "metadata": {},
   "outputs": [
    {
     "name": "stdout",
     "output_type": "stream",
     "text": [
      "Basic:     6.531560049153837\n",
      "Markov:    3.6136734209103847\n",
      "Recurrent: 11.858308981071204\n"
     ]
    }
   ],
   "source": [
    "# RMSE of all years\n",
    "print(\"Basic:    \", np.sqrt(((compare[\"Truth\"] - compare[\"Basic\"])**2).mean()))\n",
    "print(\"Markov:   \", np.sqrt(((compare[\"Truth\"] - compare[\"Markov\"])**2).mean()))\n",
    "print(\"Recurrent:\", np.sqrt(((compare[\"Truth\"] - compare[\"Recurrent\"])**2).mean()))"
   ]
  },
  {
   "cell_type": "code",
   "execution_count": null,
   "id": "723c1042",
   "metadata": {},
   "outputs": [],
   "source": []
  },
  {
   "cell_type": "code",
   "execution_count": 167,
   "id": "63f2b7a8",
   "metadata": {},
   "outputs": [
    {
     "data": {
      "image/png": "[encoded data removed]",
      "text/plain": [
       "<Figure size 432x288 with 1 Axes>"
      ]
     },
     "metadata": {
      "needs_background": "light"
     },
     "output_type": "display_data"
    }
   ],
   "source": [
    "plt.plot(compare, marker='.')\n",
    "#plt.legend([\"Ground truth\",\"Basic RF\",\"Markov\",\"Recurrent RF\"], loc=\"upper left\", bbox_to_anchor=(1, 0.5))\n",
    "plt.ylabel('Fraction (%)', fontsize=15, labelpad = 10)\n",
    "plt.xlabel('Years', fontsize=15, labelpad = 10)\n",
    "plt.xticks(np.arange(2015, 2018+1, 1), fontsize=12)\n",
    "plt.yticks(fontsize=12)\n",
    "#plt.xticks(fontsize=14, rotation=90)\n",
    "\n",
    "plt.savefig(\"../../../Overig/Visualizations/TS_LinePlots/TS-change-i3122.png\", dpi=1200, format='png', bbox_inches='tight')\n",
    "plt.show()"
   ]
  },
  {
   "cell_type": "code",
   "execution_count": 31,
   "id": "03fddb0f",
   "metadata": {},
   "outputs": [
    {
     "data": {
      "image/png": "[encoded data removed]",
      "text/plain": [
       "<Figure size 432x288 with 1 Axes>"
      ]
     },
     "metadata": {
      "needs_background": "light"
     },
     "output_type": "display_data"
    }
   ],
   "source": [
    "plt.plot(compare, marker='.')\n",
    "plt.legend([\"Ground truth\",\"Basic RF\",\"Markov\",\"Recurrent RF\"], loc=\"upper center\", bbox_to_anchor=(0.5, -0.1),\n",
    "          fancybox=True, shadow=True, ncol=4)\n",
    "\n",
    "plt.ylabel('Fraction (%)', fontsize=15, labelpad = 10)\n",
    "plt.xlabel('Years', fontsize=15, labelpad = 10)\n",
    "plt.xticks(np.arange(2015, 2018+1, 1), fontsize=12)\n",
    "plt.yticks(fontsize=12)\n",
    "#plt.xticks(fontsize=14, rotation=90)\n",
    "\n",
    "plt.savefig(\"../../../Overig/Visualizations/TS_LinePlots/TS-legend.png\", dpi=1200, format='png', bbox_inches='tight')\n",
    "plt.show()\n",
    "\n"
   ]
  },
  {
   "cell_type": "code",
   "execution_count": 164,
   "id": "23181e77",
   "metadata": {},
   "outputs": [],
   "source": [
    "def plot_timeseries(df):\n",
    "    \n",
    "    plt.plot(df)\n",
    "    plt.legend([\"Truth\",\"Basic\",\"Markov\",\"Recurrent\"], loc=\"upper left\", bbox_to_anchor=(1, 0.5))\n",
    "    plt.ylabel('Fraction (%)', fontsize=14, labelpad = 10)\n",
    "    plt.xlabel('Years', fontsize=14, labelpad = 10)\n",
    "    plt.xticks(np.arange(2015, 2018+1, 1))\n",
    "\n",
    "    plt.show()"
   ]
  },
  {
   "cell_type": "code",
   "execution_count": 9,
   "id": "b82b1dd4",
   "metadata": {},
   "outputs": [],
   "source": [
    "# def plot_simulations(eTotal, nodeSim2015, nodeSim2016, nodeSim2017, nodeSim2018):\n",
    "\n",
    "#     # Plot energy over iterations\n",
    "#     xs = [x for x in range(len(eTotal))]\n",
    "#     plt.figure(figsize=(15,6), dpi= 100)\n",
    "#     plt.subplot(1, 3, 1)\n",
    "#     plt.plot(xs, eTotal)\n",
    "#     plt.ylabel('Energy', fontsize=14)\n",
    "#     plt.xlabel('Iterations', fontsize=14)\n",
    "\n",
    "#     # Plot nodes over iterations\n",
    "#     xs = [x for x in range(len(nodeSim2015))]\n",
    "#     plt.subplot(1, 3, 2)\n",
    "#     plt.plot(xs, nodeSim2015)\n",
    "#     plt.plot(xs, nodeSim2016)\n",
    "#     plt.plot(xs, nodeSim2017)\n",
    "#     plt.plot(xs, nodeSim2018)\n",
    "#     plt.ylabel('Fraction', fontsize=14)\n",
    "#     plt.xlabel('Iterations', fontsize=14)\n",
    "#     plt.legend([\"2015\",\"2016\",\"2017\",\"2018\"], loc=\"upper left\", bbox_to_anchor=(1, 0.5))\n",
    "\n",
    "#     xs = [\"2015\",\"2016\",\"2017\",\"2018\"]\n",
    "#     yRF = [rf2015,rf2016,rf2017,rf2018]\n",
    "#     yNode = [node2015,node2016,node2017,node2018]\n",
    "#     plt.subplot(1, 3, 3)\n",
    "#     plt.plot(xs, yRF)\n",
    "#     plt.plot(xs, yNode)\n",
    "#     plt.ylabel('Fractions', fontsize=14)\n",
    "#     plt.xlabel('Years', fontsize=14)\n",
    "#     plt.legend([\"RF\",\"Smoothed\"], loc=\"upper left\", bbox_to_anchor=(1, 0.5))\n",
    "\n",
    "#     plt.tight_layout()\n",
    "#     plt.show()"
   ]
  }
 ],
 "metadata": {
  "kernelspec": {
   "display_name": "Python 3",
   "language": "python",
   "name": "python3"
  },
  "language_info": {
   "codemirror_mode": {
    "name": "ipython",
    "version": 3
   },
   "file_extension": ".py",
   "mimetype": "text/x-python",
   "name": "python",
   "nbconvert_exporter": "python",
   "pygments_lexer": "ipython3",
   "version": "3.8.8"
  }
 },
 "nbformat": 4,
 "nbformat_minor": 5
}
