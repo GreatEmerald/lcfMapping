{
 "cells": [
  {
   "cell_type": "code",
   "execution_count": 1,
   "id": "f8be720b",
   "metadata": {},
   "outputs": [],
   "source": [
    "# Import relevant packages\n",
    "import os\n",
    "import pandas as pd\n",
    "import numpy as np\n",
    "import matplotlib.pyplot as plt\n",
    "from itertools import chain\n",
    "import time"
   ]
  },
  {
   "cell_type": "code",
   "execution_count": 2,
   "id": "d5a4763e",
   "metadata": {},
   "outputs": [
    {
     "data": {
      "text/plain": [
       "'C:\\\\Users\\\\robur\\\\Documents\\\\Thesis\\\\code\\\\lcfMapping\\\\markov'"
      ]
     },
     "execution_count": 2,
     "metadata": {},
     "output_type": "execute_result"
    }
   ],
   "source": [
    "os.getcwd()"
   ]
  },
  {
   "cell_type": "code",
   "execution_count": 37,
   "id": "9df5c69c",
   "metadata": {},
   "outputs": [
    {
     "data": {
      "text/html": [
       "<div>\n",
       "<style scoped>\n",
       "    .dataframe tbody tr th:only-of-type {\n",
       "        vertical-align: middle;\n",
       "    }\n",
       "\n",
       "    .dataframe tbody tr th {\n",
       "        vertical-align: top;\n",
       "    }\n",
       "\n",
       "    .dataframe thead th {\n",
       "        text-align: right;\n",
       "    }\n",
       "</style>\n",
       "<table border=\"1\" class=\"dataframe\">\n",
       "  <thead>\n",
       "    <tr style=\"text-align: right;\">\n",
       "      <th></th>\n",
       "      <th>tree</th>\n",
       "      <th>shrub</th>\n",
       "      <th>grassland</th>\n",
       "      <th>crops</th>\n",
       "      <th>urban_built_up</th>\n",
       "      <th>bare</th>\n",
       "      <th>water</th>\n",
       "    </tr>\n",
       "  </thead>\n",
       "  <tbody>\n",
       "    <tr>\n",
       "      <th>0</th>\n",
       "      <td>0.000000</td>\n",
       "      <td>2.352941</td>\n",
       "      <td>68.235294</td>\n",
       "      <td>0.000000</td>\n",
       "      <td>29.411765</td>\n",
       "      <td>0.000000</td>\n",
       "      <td>0.0</td>\n",
       "    </tr>\n",
       "    <tr>\n",
       "      <th>1</th>\n",
       "      <td>25.327511</td>\n",
       "      <td>6.550218</td>\n",
       "      <td>68.122271</td>\n",
       "      <td>0.000000</td>\n",
       "      <td>0.000000</td>\n",
       "      <td>0.000000</td>\n",
       "      <td>0.0</td>\n",
       "    </tr>\n",
       "    <tr>\n",
       "      <th>2</th>\n",
       "      <td>3.947368</td>\n",
       "      <td>23.684211</td>\n",
       "      <td>59.210526</td>\n",
       "      <td>0.000000</td>\n",
       "      <td>0.000000</td>\n",
       "      <td>13.157895</td>\n",
       "      <td>0.0</td>\n",
       "    </tr>\n",
       "    <tr>\n",
       "      <th>3</th>\n",
       "      <td>0.000000</td>\n",
       "      <td>8.333333</td>\n",
       "      <td>6.666667</td>\n",
       "      <td>0.000000</td>\n",
       "      <td>75.000000</td>\n",
       "      <td>10.000000</td>\n",
       "      <td>0.0</td>\n",
       "    </tr>\n",
       "    <tr>\n",
       "      <th>4</th>\n",
       "      <td>12.987013</td>\n",
       "      <td>14.285714</td>\n",
       "      <td>72.727273</td>\n",
       "      <td>0.000000</td>\n",
       "      <td>0.000000</td>\n",
       "      <td>0.000000</td>\n",
       "      <td>0.0</td>\n",
       "    </tr>\n",
       "    <tr>\n",
       "      <th>...</th>\n",
       "      <td>...</td>\n",
       "      <td>...</td>\n",
       "      <td>...</td>\n",
       "      <td>...</td>\n",
       "      <td>...</td>\n",
       "      <td>...</td>\n",
       "      <td>...</td>\n",
       "    </tr>\n",
       "    <tr>\n",
       "      <th>30484</th>\n",
       "      <td>100.000000</td>\n",
       "      <td>0.000000</td>\n",
       "      <td>0.000000</td>\n",
       "      <td>0.000000</td>\n",
       "      <td>0.000000</td>\n",
       "      <td>0.000000</td>\n",
       "      <td>0.0</td>\n",
       "    </tr>\n",
       "    <tr>\n",
       "      <th>30485</th>\n",
       "      <td>0.000000</td>\n",
       "      <td>0.000000</td>\n",
       "      <td>0.000000</td>\n",
       "      <td>0.000000</td>\n",
       "      <td>0.000000</td>\n",
       "      <td>0.000000</td>\n",
       "      <td>100.0</td>\n",
       "    </tr>\n",
       "    <tr>\n",
       "      <th>30486</th>\n",
       "      <td>0.000000</td>\n",
       "      <td>0.000000</td>\n",
       "      <td>0.000000</td>\n",
       "      <td>0.000000</td>\n",
       "      <td>0.000000</td>\n",
       "      <td>0.000000</td>\n",
       "      <td>100.0</td>\n",
       "    </tr>\n",
       "    <tr>\n",
       "      <th>30487</th>\n",
       "      <td>0.000000</td>\n",
       "      <td>0.000000</td>\n",
       "      <td>100.000000</td>\n",
       "      <td>0.000000</td>\n",
       "      <td>0.000000</td>\n",
       "      <td>0.000000</td>\n",
       "      <td>0.0</td>\n",
       "    </tr>\n",
       "    <tr>\n",
       "      <th>30488</th>\n",
       "      <td>0.000000</td>\n",
       "      <td>0.000000</td>\n",
       "      <td>12.244898</td>\n",
       "      <td>87.755102</td>\n",
       "      <td>0.000000</td>\n",
       "      <td>0.000000</td>\n",
       "      <td>0.0</td>\n",
       "    </tr>\n",
       "  </tbody>\n",
       "</table>\n",
       "<p>30489 rows × 7 columns</p>\n",
       "</div>"
      ],
      "text/plain": [
       "             tree      shrub   grassland      crops  urban_built_up  \\\n",
       "0        0.000000   2.352941   68.235294   0.000000       29.411765   \n",
       "1       25.327511   6.550218   68.122271   0.000000        0.000000   \n",
       "2        3.947368  23.684211   59.210526   0.000000        0.000000   \n",
       "3        0.000000   8.333333    6.666667   0.000000       75.000000   \n",
       "4       12.987013  14.285714   72.727273   0.000000        0.000000   \n",
       "...           ...        ...         ...        ...             ...   \n",
       "30484  100.000000   0.000000    0.000000   0.000000        0.000000   \n",
       "30485    0.000000   0.000000    0.000000   0.000000        0.000000   \n",
       "30486    0.000000   0.000000    0.000000   0.000000        0.000000   \n",
       "30487    0.000000   0.000000  100.000000   0.000000        0.000000   \n",
       "30488    0.000000   0.000000   12.244898  87.755102        0.000000   \n",
       "\n",
       "            bare  water  \n",
       "0       0.000000    0.0  \n",
       "1       0.000000    0.0  \n",
       "2      13.157895    0.0  \n",
       "3      10.000000    0.0  \n",
       "4       0.000000    0.0  \n",
       "...          ...    ...  \n",
       "30484   0.000000    0.0  \n",
       "30485   0.000000  100.0  \n",
       "30486   0.000000  100.0  \n",
       "30487   0.000000    0.0  \n",
       "30488   0.000000    0.0  \n",
       "\n",
       "[30489 rows x 7 columns]"
      ]
     },
     "execution_count": 37,
     "metadata": {},
     "output_type": "execute_result"
    }
   ],
   "source": [
    "# Read in excel files\n",
    "pred2015 = pd.read_csv(\"../../data/output/wurChange/predictions-2015-median.csv\")\n",
    "pred2016 = pd.read_csv(\"../../data/output/wurChange/predictions-2016-median.csv\")\n",
    "pred2017 = pd.read_csv(\"../../data/output/wurChange/predictions-2017-median.csv\")\n",
    "pred2018 = pd.read_csv(\"../../data/output/wurChange/predictions-2018-median.csv\")\n",
    "classes = list(pred2015.columns)\n",
    "\n",
    "pred2015"
   ]
  },
  {
   "cell_type": "code",
   "execution_count": 38,
   "id": "4f8b63bc",
   "metadata": {},
   "outputs": [
    {
     "name": "stdout",
     "output_type": "stream",
     "text": [
      "tree\n",
      "shrub\n",
      "grassland\n",
      "crops\n",
      "urban_built_up\n",
      "bare\n",
      "water\n"
     ]
    }
   ],
   "source": [
    "for i in range(len(classes)):\n",
    "    print(classes[i])"
   ]
  },
  {
   "cell_type": "code",
   "execution_count": 5,
   "id": "70d696aa",
   "metadata": {},
   "outputs": [
    {
     "name": "stdout",
     "output_type": "stream",
     "text": [
      "2015: 6.55021834061135\n",
      "2016: 10.1694915254237\n",
      "2017: 19.672131147541\n",
      "2018: 20.0\n"
     ]
    }
   ],
   "source": [
    "i=1; j=1\n",
    "# i=6; j=2 #(100,50,15,3)\n",
    "print(\"2015:\", pred2015.iloc[i][j])\n",
    "print(\"2016:\", pred2016.iloc[i][j])\n",
    "print(\"2017:\", pred2017.iloc[i][j])\n",
    "print(\"2018:\", pred2018.iloc[i][j])"
   ]
  },
  {
   "cell_type": "code",
   "execution_count": null,
   "id": "152104b5",
   "metadata": {},
   "outputs": [],
   "source": []
  },
  {
   "cell_type": "code",
   "execution_count": null,
   "id": "17c80955",
   "metadata": {},
   "outputs": [],
   "source": []
  },
  {
   "cell_type": "code",
   "execution_count": null,
   "id": "4ea5c985",
   "metadata": {},
   "outputs": [],
   "source": []
  },
  {
   "cell_type": "code",
   "execution_count": null,
   "id": "3adfe6da",
   "metadata": {},
   "outputs": [],
   "source": [
    "# Tryout energy of coocc"
   ]
  },
  {
   "cell_type": "code",
   "execution_count": 12,
   "id": "32c33c99",
   "metadata": {},
   "outputs": [
    {
     "name": "stdout",
     "output_type": "stream",
     "text": [
      "0.24\n",
      "0.06\n",
      "0.21\n",
      "0.09000000000000001\n",
      "0.03\n"
     ]
    }
   ],
   "source": [
    "# tree=60% and water=40%\n",
    "print(0.6*0.4)\n",
    "print(0.6*0.1)\n",
    "print(0.3*0.7)\n",
    "print(0.9*0.1)\n",
    "print(0.3*0.1)"
   ]
  },
  {
   "cell_type": "code",
   "execution_count": null,
   "id": "b9976b10",
   "metadata": {},
   "outputs": [],
   "source": [
    "# Energy = RF + Past + Future + Class1 + Class2 + ... + Class6"
   ]
  },
  {
   "cell_type": "code",
   "execution_count": null,
   "id": "b855d342",
   "metadata": {},
   "outputs": [],
   "source": [
    "# If positive coocc:\n",
    "# EnergyClass1 = 0\n",
    "\n",
    "# If negative coocc:\n",
    "# abs(coocc) * (class*class)"
   ]
  },
  {
   "cell_type": "code",
   "execution_count": 6,
   "id": "314549bb",
   "metadata": {},
   "outputs": [
    {
     "data": {
      "text/html": [
       "<div>\n",
       "<style scoped>\n",
       "    .dataframe tbody tr th:only-of-type {\n",
       "        vertical-align: middle;\n",
       "    }\n",
       "\n",
       "    .dataframe tbody tr th {\n",
       "        vertical-align: top;\n",
       "    }\n",
       "\n",
       "    .dataframe thead th {\n",
       "        text-align: right;\n",
       "    }\n",
       "</style>\n",
       "<table border=\"1\" class=\"dataframe\">\n",
       "  <thead>\n",
       "    <tr style=\"text-align: right;\">\n",
       "      <th></th>\n",
       "      <th>bare</th>\n",
       "      <th>crops</th>\n",
       "      <th>grassland</th>\n",
       "      <th>shrub</th>\n",
       "      <th>tree</th>\n",
       "      <th>urban_built_up</th>\n",
       "      <th>water</th>\n",
       "    </tr>\n",
       "  </thead>\n",
       "  <tbody>\n",
       "    <tr>\n",
       "      <th>0</th>\n",
       "      <td>0.0</td>\n",
       "      <td>0.0</td>\n",
       "      <td>9.0</td>\n",
       "      <td>50.0</td>\n",
       "      <td>41.0</td>\n",
       "      <td>0.0</td>\n",
       "      <td>0.0</td>\n",
       "    </tr>\n",
       "    <tr>\n",
       "      <th>4</th>\n",
       "      <td>27.0</td>\n",
       "      <td>63.0</td>\n",
       "      <td>4.0</td>\n",
       "      <td>0.0</td>\n",
       "      <td>0.0</td>\n",
       "      <td>6.0</td>\n",
       "      <td>0.0</td>\n",
       "    </tr>\n",
       "    <tr>\n",
       "      <th>8</th>\n",
       "      <td>0.0</td>\n",
       "      <td>0.0</td>\n",
       "      <td>0.0</td>\n",
       "      <td>0.0</td>\n",
       "      <td>100.0</td>\n",
       "      <td>0.0</td>\n",
       "      <td>0.0</td>\n",
       "    </tr>\n",
       "    <tr>\n",
       "      <th>12</th>\n",
       "      <td>1.0</td>\n",
       "      <td>0.0</td>\n",
       "      <td>93.0</td>\n",
       "      <td>0.0</td>\n",
       "      <td>6.0</td>\n",
       "      <td>0.0</td>\n",
       "      <td>0.0</td>\n",
       "    </tr>\n",
       "    <tr>\n",
       "      <th>16</th>\n",
       "      <td>0.0</td>\n",
       "      <td>0.0</td>\n",
       "      <td>41.0</td>\n",
       "      <td>0.0</td>\n",
       "      <td>59.0</td>\n",
       "      <td>0.0</td>\n",
       "      <td>0.0</td>\n",
       "    </tr>\n",
       "    <tr>\n",
       "      <th>20</th>\n",
       "      <td>0.0</td>\n",
       "      <td>0.0</td>\n",
       "      <td>77.0</td>\n",
       "      <td>1.0</td>\n",
       "      <td>21.0</td>\n",
       "      <td>1.0</td>\n",
       "      <td>0.0</td>\n",
       "    </tr>\n",
       "    <tr>\n",
       "      <th>24</th>\n",
       "      <td>0.0</td>\n",
       "      <td>23.0</td>\n",
       "      <td>66.0</td>\n",
       "      <td>0.0</td>\n",
       "      <td>11.0</td>\n",
       "      <td>0.0</td>\n",
       "      <td>0.0</td>\n",
       "    </tr>\n",
       "    <tr>\n",
       "      <th>28</th>\n",
       "      <td>0.0</td>\n",
       "      <td>31.0</td>\n",
       "      <td>10.0</td>\n",
       "      <td>7.0</td>\n",
       "      <td>52.0</td>\n",
       "      <td>0.0</td>\n",
       "      <td>0.0</td>\n",
       "    </tr>\n",
       "    <tr>\n",
       "      <th>32</th>\n",
       "      <td>0.0</td>\n",
       "      <td>0.0</td>\n",
       "      <td>0.0</td>\n",
       "      <td>75.0</td>\n",
       "      <td>25.0</td>\n",
       "      <td>0.0</td>\n",
       "      <td>0.0</td>\n",
       "    </tr>\n",
       "    <tr>\n",
       "      <th>36</th>\n",
       "      <td>0.0</td>\n",
       "      <td>0.0</td>\n",
       "      <td>4.0</td>\n",
       "      <td>0.0</td>\n",
       "      <td>19.0</td>\n",
       "      <td>77.0</td>\n",
       "      <td>0.0</td>\n",
       "    </tr>\n",
       "  </tbody>\n",
       "</table>\n",
       "</div>"
      ],
      "text/plain": [
       "    bare  crops  grassland  shrub   tree  urban_built_up  water\n",
       "0    0.0    0.0        9.0   50.0   41.0             0.0    0.0\n",
       "4   27.0   63.0        4.0    0.0    0.0             6.0    0.0\n",
       "8    0.0    0.0        0.0    0.0  100.0             0.0    0.0\n",
       "12   1.0    0.0       93.0    0.0    6.0             0.0    0.0\n",
       "16   0.0    0.0       41.0    0.0   59.0             0.0    0.0\n",
       "20   0.0    0.0       77.0    1.0   21.0             1.0    0.0\n",
       "24   0.0   23.0       66.0    0.0   11.0             0.0    0.0\n",
       "28   0.0   31.0       10.0    7.0   52.0             0.0    0.0\n",
       "32   0.0    0.0        0.0   75.0   25.0             0.0    0.0\n",
       "36   0.0    0.0        4.0    0.0   19.0            77.0    0.0"
      ]
     },
     "execution_count": 6,
     "metadata": {},
     "output_type": "execute_result"
    }
   ],
   "source": [
    "# Read in IIASA Change data \n",
    "# Required to train transition probability matrix\n",
    "#test = gpd.read_file(\"../data/processed/IIASAchangeHarmonics.gpkg\")\n",
    "#df = pd.DataFrame(test.drop(columns='geometry'))\n",
    "#df\n",
    "\n",
    "df = pd.read_csv(\"../../data/processed/IIASAchangeMerged.csv\")\n",
    "df2015 = df.loc[df['reference_year'] == 2015]\n",
    "df2016 = df.loc[df['reference_year'] == 2016]\n",
    "df2017 = df.loc[df['reference_year'] == 2017]\n",
    "df2018 = df.loc[df['reference_year'] == 2018]\n",
    "\n",
    "df2015 = df2015[df2015.columns.intersection(classes)]\n",
    "df2016 = df2016[df2015.columns.intersection(classes)]\n",
    "df2017 = df2017[df2015.columns.intersection(classes)]\n",
    "df2018 = df2018[df2015.columns.intersection(classes)]\n",
    "\n",
    "df2015.iloc[0:10]"
   ]
  },
  {
   "cell_type": "code",
   "execution_count": 7,
   "id": "75d31ff6",
   "metadata": {},
   "outputs": [
    {
     "data": {
      "text/plain": [
       "True     33561\n",
       "False       13\n",
       "dtype: int64"
      ]
     },
     "execution_count": 7,
     "metadata": {},
     "output_type": "execute_result"
    }
   ],
   "source": [
    "(df2015.sum(1) == 100).value_counts()"
   ]
  },
  {
   "cell_type": "code",
   "execution_count": null,
   "id": "aef76c7e",
   "metadata": {},
   "outputs": [],
   "source": []
  },
  {
   "cell_type": "code",
   "execution_count": null,
   "id": "2ff67d58",
   "metadata": {},
   "outputs": [],
   "source": [
    "# Calc coocc"
   ]
  },
  {
   "cell_type": "code",
   "execution_count": 8,
   "id": "507eb7cf",
   "metadata": {},
   "outputs": [
    {
     "data": {
      "text/html": [
       "<div>\n",
       "<style scoped>\n",
       "    .dataframe tbody tr th:only-of-type {\n",
       "        vertical-align: middle;\n",
       "    }\n",
       "\n",
       "    .dataframe tbody tr th {\n",
       "        vertical-align: top;\n",
       "    }\n",
       "\n",
       "    .dataframe thead th {\n",
       "        text-align: right;\n",
       "    }\n",
       "</style>\n",
       "<table border=\"1\" class=\"dataframe\">\n",
       "  <thead>\n",
       "    <tr style=\"text-align: right;\">\n",
       "      <th></th>\n",
       "      <th>bare</th>\n",
       "      <th>crops</th>\n",
       "      <th>grassland</th>\n",
       "      <th>shrub</th>\n",
       "      <th>tree</th>\n",
       "      <th>urban_built_up</th>\n",
       "      <th>water</th>\n",
       "    </tr>\n",
       "  </thead>\n",
       "  <tbody>\n",
       "    <tr>\n",
       "      <th>0</th>\n",
       "      <td>0</td>\n",
       "      <td>0</td>\n",
       "      <td>1</td>\n",
       "      <td>1</td>\n",
       "      <td>1</td>\n",
       "      <td>0</td>\n",
       "      <td>0</td>\n",
       "    </tr>\n",
       "    <tr>\n",
       "      <th>4</th>\n",
       "      <td>1</td>\n",
       "      <td>1</td>\n",
       "      <td>1</td>\n",
       "      <td>0</td>\n",
       "      <td>0</td>\n",
       "      <td>1</td>\n",
       "      <td>0</td>\n",
       "    </tr>\n",
       "    <tr>\n",
       "      <th>8</th>\n",
       "      <td>0</td>\n",
       "      <td>0</td>\n",
       "      <td>0</td>\n",
       "      <td>0</td>\n",
       "      <td>1</td>\n",
       "      <td>0</td>\n",
       "      <td>0</td>\n",
       "    </tr>\n",
       "    <tr>\n",
       "      <th>12</th>\n",
       "      <td>1</td>\n",
       "      <td>0</td>\n",
       "      <td>1</td>\n",
       "      <td>0</td>\n",
       "      <td>1</td>\n",
       "      <td>0</td>\n",
       "      <td>0</td>\n",
       "    </tr>\n",
       "    <tr>\n",
       "      <th>16</th>\n",
       "      <td>0</td>\n",
       "      <td>0</td>\n",
       "      <td>1</td>\n",
       "      <td>0</td>\n",
       "      <td>1</td>\n",
       "      <td>0</td>\n",
       "      <td>0</td>\n",
       "    </tr>\n",
       "  </tbody>\n",
       "</table>\n",
       "</div>"
      ],
      "text/plain": [
       "    bare  crops  grassland  shrub  tree  urban_built_up  water\n",
       "0      0      0          1      1     1               0      0\n",
       "4      1      1          1      0     0               1      0\n",
       "8      0      0          0      0     1               0      0\n",
       "12     1      0          1      0     1               0      0\n",
       "16     0      0          1      0     1               0      0"
      ]
     },
     "execution_count": 8,
     "metadata": {},
     "output_type": "execute_result"
    }
   ],
   "source": [
    "temp = (df2015 > 0).astype(int)\n",
    "temp.iloc[0:5]"
   ]
  },
  {
   "cell_type": "code",
   "execution_count": 9,
   "id": "a9315c1f",
   "metadata": {},
   "outputs": [
    {
     "data": {
      "text/html": [
       "<div>\n",
       "<style scoped>\n",
       "    .dataframe tbody tr th:only-of-type {\n",
       "        vertical-align: middle;\n",
       "    }\n",
       "\n",
       "    .dataframe tbody tr th {\n",
       "        vertical-align: top;\n",
       "    }\n",
       "\n",
       "    .dataframe thead th {\n",
       "        text-align: right;\n",
       "    }\n",
       "</style>\n",
       "<table border=\"1\" class=\"dataframe\">\n",
       "  <thead>\n",
       "    <tr style=\"text-align: right;\">\n",
       "      <th></th>\n",
       "      <th>bare</th>\n",
       "      <th>crops</th>\n",
       "      <th>grassland</th>\n",
       "      <th>shrub</th>\n",
       "      <th>tree</th>\n",
       "      <th>urban_built_up</th>\n",
       "      <th>water</th>\n",
       "    </tr>\n",
       "  </thead>\n",
       "  <tbody>\n",
       "    <tr>\n",
       "      <th>bare</th>\n",
       "      <td>5317</td>\n",
       "      <td>1223</td>\n",
       "      <td>3732</td>\n",
       "      <td>3008</td>\n",
       "      <td>2107</td>\n",
       "      <td>738</td>\n",
       "      <td>385</td>\n",
       "    </tr>\n",
       "    <tr>\n",
       "      <th>crops</th>\n",
       "      <td>1223</td>\n",
       "      <td>6987</td>\n",
       "      <td>2652</td>\n",
       "      <td>3224</td>\n",
       "      <td>2938</td>\n",
       "      <td>944</td>\n",
       "      <td>208</td>\n",
       "    </tr>\n",
       "    <tr>\n",
       "      <th>grassland</th>\n",
       "      <td>3732</td>\n",
       "      <td>2652</td>\n",
       "      <td>22551</td>\n",
       "      <td>13367</td>\n",
       "      <td>10451</td>\n",
       "      <td>1840</td>\n",
       "      <td>1098</td>\n",
       "    </tr>\n",
       "    <tr>\n",
       "      <th>shrub</th>\n",
       "      <td>3008</td>\n",
       "      <td>3224</td>\n",
       "      <td>13367</td>\n",
       "      <td>16802</td>\n",
       "      <td>9684</td>\n",
       "      <td>1613</td>\n",
       "      <td>623</td>\n",
       "    </tr>\n",
       "    <tr>\n",
       "      <th>tree</th>\n",
       "      <td>2107</td>\n",
       "      <td>2938</td>\n",
       "      <td>10451</td>\n",
       "      <td>9684</td>\n",
       "      <td>15714</td>\n",
       "      <td>1779</td>\n",
       "      <td>641</td>\n",
       "    </tr>\n",
       "    <tr>\n",
       "      <th>urban_built_up</th>\n",
       "      <td>738</td>\n",
       "      <td>944</td>\n",
       "      <td>1840</td>\n",
       "      <td>1613</td>\n",
       "      <td>1779</td>\n",
       "      <td>2239</td>\n",
       "      <td>154</td>\n",
       "    </tr>\n",
       "    <tr>\n",
       "      <th>water</th>\n",
       "      <td>385</td>\n",
       "      <td>208</td>\n",
       "      <td>1098</td>\n",
       "      <td>623</td>\n",
       "      <td>641</td>\n",
       "      <td>154</td>\n",
       "      <td>2853</td>\n",
       "    </tr>\n",
       "  </tbody>\n",
       "</table>\n",
       "</div>"
      ],
      "text/plain": [
       "                bare  crops  grassland  shrub   tree  urban_built_up  water\n",
       "bare            5317   1223       3732   3008   2107             738    385\n",
       "crops           1223   6987       2652   3224   2938             944    208\n",
       "grassland       3732   2652      22551  13367  10451            1840   1098\n",
       "shrub           3008   3224      13367  16802   9684            1613    623\n",
       "tree            2107   2938      10451   9684  15714            1779    641\n",
       "urban_built_up   738    944       1840   1613   1779            2239    154\n",
       "water            385    208       1098    623    641             154   2853"
      ]
     },
     "execution_count": 9,
     "metadata": {},
     "output_type": "execute_result"
    }
   ],
   "source": [
    "coocc = temp.T.dot(temp)\n",
    "coocc"
   ]
  },
  {
   "cell_type": "code",
   "execution_count": 10,
   "id": "04d77e28",
   "metadata": {},
   "outputs": [
    {
     "data": {
      "text/plain": [
       "bare              2358.571429\n",
       "crops             2596.571429\n",
       "grassland         7955.857143\n",
       "shrub             6903.000000\n",
       "tree              6187.714286\n",
       "urban_built_up    1329.571429\n",
       "water              851.714286\n",
       "dtype: float64"
      ]
     },
     "execution_count": 10,
     "metadata": {},
     "output_type": "execute_result"
    }
   ],
   "source": [
    "coocc.mean()"
   ]
  },
  {
   "cell_type": "code",
   "execution_count": 60,
   "id": "bf525721",
   "metadata": {},
   "outputs": [
    {
     "data": {
      "text/html": [
       "<div>\n",
       "<style scoped>\n",
       "    .dataframe tbody tr th:only-of-type {\n",
       "        vertical-align: middle;\n",
       "    }\n",
       "\n",
       "    .dataframe tbody tr th {\n",
       "        vertical-align: top;\n",
       "    }\n",
       "\n",
       "    .dataframe thead th {\n",
       "        text-align: right;\n",
       "    }\n",
       "</style>\n",
       "<table border=\"1\" class=\"dataframe\">\n",
       "  <thead>\n",
       "    <tr style=\"text-align: right;\">\n",
       "      <th></th>\n",
       "      <th>bare</th>\n",
       "      <th>crops</th>\n",
       "      <th>grassland</th>\n",
       "      <th>shrub</th>\n",
       "      <th>tree</th>\n",
       "      <th>urban_built_up</th>\n",
       "      <th>water</th>\n",
       "    </tr>\n",
       "  </thead>\n",
       "  <tbody>\n",
       "    <tr>\n",
       "      <th>bare</th>\n",
       "      <td>1.665370</td>\n",
       "      <td>-0.639240</td>\n",
       "      <td>0.773136</td>\n",
       "      <td>0.365579</td>\n",
       "      <td>-0.141616</td>\n",
       "      <td>-0.912258</td>\n",
       "      <td>-1.110971</td>\n",
       "    </tr>\n",
       "    <tr>\n",
       "      <th>crops</th>\n",
       "      <td>-0.613135</td>\n",
       "      <td>1.959800</td>\n",
       "      <td>0.024742</td>\n",
       "      <td>0.280072</td>\n",
       "      <td>0.152407</td>\n",
       "      <td>-0.737675</td>\n",
       "      <td>-1.066211</td>\n",
       "    </tr>\n",
       "    <tr>\n",
       "      <th>grassland</th>\n",
       "      <td>-0.531502</td>\n",
       "      <td>-0.667403</td>\n",
       "      <td>1.836557</td>\n",
       "      <td>0.680903</td>\n",
       "      <td>0.313972</td>\n",
       "      <td>-0.769579</td>\n",
       "      <td>-0.862948</td>\n",
       "    </tr>\n",
       "    <tr>\n",
       "      <th>shrub</th>\n",
       "      <td>-0.611241</td>\n",
       "      <td>-0.577344</td>\n",
       "      <td>1.014393</td>\n",
       "      <td>1.553446</td>\n",
       "      <td>0.436421</td>\n",
       "      <td>-0.830158</td>\n",
       "      <td>-0.985518</td>\n",
       "    </tr>\n",
       "    <tr>\n",
       "      <th>tree</th>\n",
       "      <td>-0.709349</td>\n",
       "      <td>-0.564897</td>\n",
       "      <td>0.741085</td>\n",
       "      <td>0.607758</td>\n",
       "      <td>1.655951</td>\n",
       "      <td>-0.766365</td>\n",
       "      <td>-0.964183</td>\n",
       "    </tr>\n",
       "    <tr>\n",
       "      <th>urban_built_up</th>\n",
       "      <td>-0.803725</td>\n",
       "      <td>-0.523848</td>\n",
       "      <td>0.693482</td>\n",
       "      <td>0.385074</td>\n",
       "      <td>0.610606</td>\n",
       "      <td>1.235574</td>\n",
       "      <td>-1.597163</td>\n",
       "    </tr>\n",
       "    <tr>\n",
       "      <th>water</th>\n",
       "      <td>-0.497448</td>\n",
       "      <td>-0.686104</td>\n",
       "      <td>0.262504</td>\n",
       "      <td>-0.243775</td>\n",
       "      <td>-0.224590</td>\n",
       "      <td>-0.743660</td>\n",
       "      <td>2.133073</td>\n",
       "    </tr>\n",
       "  </tbody>\n",
       "</table>\n",
       "</div>"
      ],
      "text/plain": [
       "                    bare     crops  grassland     shrub      tree  \\\n",
       "bare            1.665370 -0.639240   0.773136  0.365579 -0.141616   \n",
       "crops          -0.613135  1.959800   0.024742  0.280072  0.152407   \n",
       "grassland      -0.531502 -0.667403   1.836557  0.680903  0.313972   \n",
       "shrub          -0.611241 -0.577344   1.014393  1.553446  0.436421   \n",
       "tree           -0.709349 -0.564897   0.741085  0.607758  1.655951   \n",
       "urban_built_up -0.803725 -0.523848   0.693482  0.385074  0.610606   \n",
       "water          -0.497448 -0.686104   0.262504 -0.243775 -0.224590   \n",
       "\n",
       "                urban_built_up     water  \n",
       "bare                 -0.912258 -1.110971  \n",
       "crops                -0.737675 -1.066211  \n",
       "grassland            -0.769579 -0.862948  \n",
       "shrub                -0.830158 -0.985518  \n",
       "tree                 -0.766365 -0.964183  \n",
       "urban_built_up        1.235574 -1.597163  \n",
       "water                -0.743660  2.133073  "
      ]
     },
     "execution_count": 60,
     "metadata": {},
     "output_type": "execute_result"
    }
   ],
   "source": [
    "znorm = coocc.apply(lambda x: (x-x.mean())/x.std()).T\n",
    "znorm"
   ]
  },
  {
   "cell_type": "code",
   "execution_count": 12,
   "id": "a7c59dea",
   "metadata": {},
   "outputs": [
    {
     "name": "stdout",
     "output_type": "stream",
     "text": [
      "0.14161558670189237\n"
     ]
    },
    {
     "data": {
      "text/plain": [
       "339.8774080845417"
      ]
     },
     "execution_count": 12,
     "metadata": {},
     "output_type": "execute_result"
    }
   ],
   "source": [
    "e_abs = abs(znorm.loc[\"bare\",\"tree\"])\n",
    "print(e_abs)\n",
    "\n",
    "e = e_abs*(60*40)\n",
    "e"
   ]
  },
  {
   "cell_type": "code",
   "execution_count": 13,
   "id": "359f8179",
   "metadata": {},
   "outputs": [
    {
     "name": "stdout",
     "output_type": "stream",
     "text": [
      "1.1109706588794117\n"
     ]
    },
    {
     "data": {
      "text/plain": [
       "2666.3295813105883"
      ]
     },
     "execution_count": 13,
     "metadata": {},
     "output_type": "execute_result"
    }
   ],
   "source": [
    "e_abs = abs(znorm.loc[\"bare\",\"water\"])\n",
    "print(e_abs)\n",
    "\n",
    "e = e_abs*(60*40)\n",
    "e"
   ]
  },
  {
   "cell_type": "code",
   "execution_count": 14,
   "id": "07a20b8f",
   "metadata": {},
   "outputs": [
    {
     "name": "stdout",
     "output_type": "stream",
     "text": [
      "0.6392403740450556\n"
     ]
    },
    {
     "data": {
      "text/plain": [
       "1534.1768977081335"
      ]
     },
     "execution_count": 14,
     "metadata": {},
     "output_type": "execute_result"
    }
   ],
   "source": [
    "e_abs = abs(znorm.loc[\"bare\",\"crops\"])\n",
    "print(e_abs)\n",
    "\n",
    "e = e_abs*(60*40)\n",
    "e"
   ]
  },
  {
   "cell_type": "code",
   "execution_count": null,
   "id": "a403f463",
   "metadata": {},
   "outputs": [],
   "source": [
    "# Try out implementation coocc in energy (without between-year)"
   ]
  },
  {
   "cell_type": "code",
   "execution_count": 118,
   "id": "209de533",
   "metadata": {},
   "outputs": [
    {
     "name": "stdout",
     "output_type": "stream",
     "text": [
      "RF-value:\n",
      " 2015: 23.6842105263158\n",
      "tree               3.947368\n",
      "grassland         59.210526\n",
      "crops              0.000000\n",
      "urban_built_up     0.000000\n",
      "bare              13.157895\n",
      "water              0.000000\n",
      "Name: 2, dtype: float64\n",
      "crops            -0.667403\n",
      "urban_built_up   -0.769579\n",
      "bare             -0.531502\n",
      "water            -0.862948\n",
      "Name: grassland, dtype: float64\n"
     ]
    }
   ],
   "source": [
    "i=2\n",
    "j=1\n",
    "\n",
    "# initialise\n",
    "rf2015 = pred2015.iloc[i][j]\n",
    "node2015 = rf2015\n",
    "\n",
    "print(\"RF-value:\")\n",
    "print(\" 2015:\", rf2015)\n",
    "\n",
    "nodeSim2015 = []\n",
    "nodeSim2016 = []\n",
    "nodeSim2017 = []\n",
    "nodeSim2018 = []\n",
    "nodeSim2015.append(node2015)\n",
    "nodeSim2016.append(node2016)\n",
    "nodeSim2017.append(node2017)\n",
    "nodeSim2018.append(node2018)\n",
    "\n",
    "\n",
    "eTotal = []\n",
    "eTotal.append(calc_total_energy(nodes = (node2015, node2016, node2017, node2018),\n",
    "                                edges = ((rf2015,node2016),\n",
    "                                         (rf2016,node2015,node2017),\n",
    "                                         (rf2017,node2016,node2018),\n",
    "                                         (rf2018,node2017))))\n",
    "\n",
    "e = calc_total_energy(nodes = (node2015, node2016, node2017, node2018),\n",
    "                                edges = ((rf2015,node2016),\n",
    "                                         (rf2016,node2015,node2017),\n",
    "                                         (rf2017,node2016,node2018),\n",
    "                                         (rf2018,node2017)))\n",
    "\n",
    "\n"
   ]
  },
  {
   "cell_type": "code",
   "execution_count": 153,
   "id": "6576c7fe",
   "metadata": {},
   "outputs": [
    {
     "name": "stdout",
     "output_type": "stream",
     "text": [
      "Class: bare\n",
      " Fraction: 13.1578947368421 \n",
      "\n",
      "Energy of classes: 7.3553801957354015\n"
     ]
    }
   ],
   "source": [
    "j = 5\n",
    "node2015 = pred2015.iloc[i][j]\n",
    "print(\"Class:\", classes[j])\n",
    "print(\" Fraction:\", node2015, \"\\n\")\n",
    "\n",
    "otherClasses = classes[:j] + classes[j+1:]\n",
    "#print(pred2015.iloc[i,:][otherClasses])\n",
    "corr = znorm.loc[classes[j],otherClasses]\n",
    "#print(corr)\n",
    "\n",
    "e_abs = abs(corr[corr < 0])\n",
    "#print(e_abs)\n",
    "\n",
    "neg_classes = list(e_abs.index.values)\n",
    "#print(neg_classes)\n",
    "\n",
    "e_class = [(e_abs[classname] * (node2015 * pred2015.iloc[i,:][classname])) for classname in neg_classes]\n",
    "print(\"Energy of classes:\", sum(e_class))"
   ]
  },
  {
   "cell_type": "code",
   "execution_count": 149,
   "id": "fbc8ae8f",
   "metadata": {},
   "outputs": [
    {
     "name": "stdout",
     "output_type": "stream",
     "text": [
      "13.1578947368421\n",
      "8.10810810810811\n",
      "15.9090909090909\n",
      "0.0\n"
     ]
    }
   ],
   "source": [
    "print(pred2015.iloc[i,j])\n",
    "print(pred2016.iloc[i,j])\n",
    "print(pred2017.iloc[i,j])\n",
    "print(pred2018.iloc[i,j])"
   ]
  },
  {
   "cell_type": "code",
   "execution_count": 103,
   "id": "24401ff0",
   "metadata": {},
   "outputs": [
    {
     "name": "stdout",
     "output_type": "stream",
     "text": [
      "['tree', 'shrub', 'grassland', 'crops', 'urban_built_up', 'bare', 'water']\n",
      "['tree', 'grassland', 'crops', 'urban_built_up', 'bare', 'water']\n"
     ]
    },
    {
     "data": {
      "text/plain": [
       "tree               3.947368\n",
       "grassland         59.210526\n",
       "crops              0.000000\n",
       "urban_built_up     0.000000\n",
       "bare              13.157895\n",
       "water              0.000000\n",
       "Name: 2, dtype: float64"
      ]
     },
     "execution_count": 103,
     "metadata": {},
     "output_type": "execute_result"
    }
   ],
   "source": [
    "print(classes)\n",
    "otherClasses = classes[:j] + classes[j+1:]\n",
    "print(otherClasses)\n",
    "\n",
    "pred2015.iloc[i,:]#.columns.get_indexer(otherClasses)\n",
    "pred2015.iloc[i,:][otherClasses]\n"
   ]
  },
  {
   "cell_type": "code",
   "execution_count": 104,
   "id": "5dca24a7",
   "metadata": {},
   "outputs": [
    {
     "name": "stdout",
     "output_type": "stream",
     "text": [
      "tree              0.313972\n",
      "grassland         1.836557\n",
      "crops            -0.667403\n",
      "urban_built_up   -0.769579\n",
      "bare             -0.531502\n",
      "water            -0.862948\n",
      "Name: grassland, dtype: float64\n"
     ]
    }
   ],
   "source": [
    "corr = znorm.loc[classes[j],otherClasses]\n",
    "print(corr)"
   ]
  },
  {
   "cell_type": "code",
   "execution_count": 105,
   "id": "c6ff725a",
   "metadata": {},
   "outputs": [
    {
     "data": {
      "text/plain": [
       "crops             0.667403\n",
       "urban_built_up    0.769579\n",
       "bare              0.531502\n",
       "water             0.862948\n",
       "Name: grassland, dtype: float64"
      ]
     },
     "execution_count": 105,
     "metadata": {},
     "output_type": "execute_result"
    }
   ],
   "source": [
    "e_abs = abs(corr[corr < 0])\n",
    "e_abs"
   ]
  },
  {
   "cell_type": "code",
   "execution_count": 106,
   "id": "d13f3006",
   "metadata": {},
   "outputs": [
    {
     "name": "stdout",
     "output_type": "stream",
     "text": [
      "['crops', 'urban_built_up', 'bare', 'water']\n"
     ]
    },
    {
     "data": {
      "text/plain": [
       "crops              0.000000\n",
       "urban_built_up     0.000000\n",
       "bare              13.157895\n",
       "water              0.000000\n",
       "Name: 2, dtype: float64"
      ]
     },
     "execution_count": 106,
     "metadata": {},
     "output_type": "execute_result"
    }
   ],
   "source": [
    "neg_classes = list(e_abs.index.values)\n",
    "print(neg_classes)\n",
    "pred2015.iloc[i,:][otherClasses][neg_classes]"
   ]
  },
  {
   "cell_type": "code",
   "execution_count": 107,
   "id": "7e9d2de8",
   "metadata": {},
   "outputs": [
    {
     "data": {
      "text/plain": [
       "[0.0, 0.0, 165.63441085545685, 0.0]"
      ]
     },
     "execution_count": 107,
     "metadata": {},
     "output_type": "execute_result"
    }
   ],
   "source": [
    "[(e_abs[classname] * (node2015 * pred2015.iloc[i,:][classname])) for classname in neg_classes]"
   ]
  },
  {
   "cell_type": "code",
   "execution_count": 109,
   "id": "700726aa",
   "metadata": {},
   "outputs": [
    {
     "data": {
      "text/plain": [
       "13.1578947368421"
      ]
     },
     "execution_count": 109,
     "metadata": {},
     "output_type": "execute_result"
    }
   ],
   "source": [
    "pred2015.iloc[i,:][neg_classes[2]]"
   ]
  },
  {
   "cell_type": "code",
   "execution_count": 117,
   "id": "9074b49f",
   "metadata": {},
   "outputs": [
    {
     "data": {
      "text/plain": [
       "70.0112"
      ]
     },
     "execution_count": 117,
     "metadata": {},
     "output_type": "execute_result"
    }
   ],
   "source": [
    "10*13.16*0.532"
   ]
  },
  {
   "cell_type": "code",
   "execution_count": 115,
   "id": "002db93f",
   "metadata": {},
   "outputs": [
    {
     "data": {
      "text/plain": [
       "23.6842105263158"
      ]
     },
     "execution_count": 115,
     "metadata": {},
     "output_type": "execute_result"
    }
   ],
   "source": [
    "node2015"
   ]
  },
  {
   "cell_type": "code",
   "execution_count": null,
   "id": "c5353dee",
   "metadata": {},
   "outputs": [],
   "source": []
  },
  {
   "cell_type": "code",
   "execution_count": null,
   "id": "99a290c8",
   "metadata": {},
   "outputs": [],
   "source": []
  },
  {
   "cell_type": "code",
   "execution_count": null,
   "id": "721c6534",
   "metadata": {},
   "outputs": [],
   "source": [
    "## Start of Markov chain building"
   ]
  },
  {
   "cell_type": "code",
   "execution_count": null,
   "id": "9602dff5",
   "metadata": {},
   "outputs": [],
   "source": [
    "## Pseudo-Code concept\n",
    "\n",
    "# Concept of all code\n",
    "\"\"\"\n",
    "for 1:30.000 points\n",
    "    \n",
    "    for 1:7 classes:\n",
    "        \n",
    "        for n times:\n",
    "            2015\n",
    "                optimise\n",
    "            2016\n",
    "                optimise\n",
    "            2017\n",
    "                optimise\n",
    "            2018\n",
    "                optimise\n",
    "\"\"\"\n",
    "\n",
    "# Concept of all code with params\n",
    "\"\"\"\n",
    "pred2015\n",
    "pred2016\n",
    "pred2017\n",
    "pred2018\n",
    "\n",
    "for 1:30.000 points (i):\n",
    "    \n",
    "    pred2015.iloc[i]\n",
    "    pred2016.iloc[i]\n",
    "    pred2017.iloc[i]\n",
    "    pred2018.iloc[i]\n",
    "    \n",
    "    for 1:7 classes (j):\n",
    "        pred2015.iloc[i][j]\n",
    "        pred2016.iloc[i][j]\n",
    "        pred2017.iloc[i][j]\n",
    "        pred2018.iloc[i][j]\n",
    "        \n",
    "        for n times:\n",
    "            2015\n",
    "                optimise\n",
    "            2016\n",
    "                optimise\n",
    "            2017\n",
    "                optimise\n",
    "            2018\n",
    "                optimise\n",
    "\"\"\""
   ]
  },
  {
   "cell_type": "code",
   "execution_count": null,
   "id": "27220317",
   "metadata": {},
   "outputs": [],
   "source": []
  },
  {
   "cell_type": "code",
   "execution_count": 154,
   "id": "6faa1d40",
   "metadata": {},
   "outputs": [
    {
     "name": "stdout",
     "output_type": "stream",
     "text": [
      "RF-values:\n",
      " 2015: 6.55021834061135\n",
      " 2016: 10.1694915254237\n",
      " 2017: 19.672131147541\n",
      " 2018: 20.0\n",
      "\n",
      "After smoothing...\n",
      " Final node 2015: 9.55021834061135\n",
      " Final node 2016: 12.1694915254237\n",
      " Final node 2017: 16.672131147541\n",
      " Final node 2018: 18.0 \n",
      "\n"
     ]
    },
    {
     "data": {
      "image/png": "[encoded data removed]",
      "text/plain": [
       "<Figure size 1500x600 with 3 Axes>"
      ]
     },
     "metadata": {
      "needs_background": "light"
     },
     "output_type": "display_data"
    }
   ],
   "source": [
    "\"\"\" \n",
    "for 1:7 classes (j):\n",
    "        pred2015.iloc[i][j]\n",
    "        pred2016.iloc[i][j]\n",
    "        pred2017.iloc[i][j]\n",
    "        pred2018.iloc[i][j]\n",
    "        \n",
    "        for n times:\n",
    "            2015\n",
    "                optimise\n",
    "            2016\n",
    "                optimise\n",
    "            2017\n",
    "                optimise\n",
    "            2018\n",
    "                optimise\n",
    "\"\"\"\n",
    "\n",
    "# for 1:7 classes (j):\n",
    "\n",
    "i=1\n",
    "j=1\n",
    "\n",
    "# initialise\n",
    "rf2015 = pred2015.iloc[i][j]\n",
    "rf2016 = pred2016.iloc[i][j]\n",
    "rf2017 = pred2017.iloc[i][j]\n",
    "rf2018 = pred2018.iloc[i][j]\n",
    "print(\"RF-values:\")\n",
    "print(\" 2015:\", rf2015)\n",
    "print(\" 2016:\", rf2016)\n",
    "print(\" 2017:\", rf2017)\n",
    "print(\" 2018:\", rf2018)\n",
    "\n",
    "node2015 = rf2015\n",
    "node2016 = rf2016\n",
    "node2017 = rf2017\n",
    "node2018 = rf2018\n",
    "\n",
    "stepsize = 1\n",
    "plot = True\n",
    "\n",
    "nodeSim2015 = []\n",
    "nodeSim2016 = []\n",
    "nodeSim2017 = []\n",
    "nodeSim2018 = []\n",
    "nodeSim2015.append(node2015)\n",
    "nodeSim2016.append(node2016)\n",
    "nodeSim2017.append(node2017)\n",
    "nodeSim2018.append(node2018)\n",
    "\n",
    "eTotal = []\n",
    "eTotal.append(calc_total_energy(nodes = (node2015, node2016, node2017, node2018),\n",
    "                                edges = ((rf2015,node2016),(rf2016,node2015,node2017),\n",
    "                                         (rf2017,node2016,node2018),(rf2018,node2017))))\n",
    "e = calc_total_energy(nodes = (node2015, node2016, node2017, node2018),\n",
    "                                edges = ((rf2015,node2016),(rf2016,node2015,node2017),\n",
    "                                         (rf2017,node2016,node2018),(rf2018,node2017)))\n",
    "\n",
    "for k in range(10):\n",
    "\n",
    "#     if k == 2:\n",
    "#         stepsize = 0.1\n",
    "    \n",
    "    if len(eTotal) >= 5 and eTotal[k] == eTotal[k-1] == eTotal[k-2]:\n",
    "        break\n",
    "    \n",
    "    node2015 = optimise_node(node2015, edges=(rf2015,node2016), stepsize=stepsize)\n",
    "    nodeSim2015.append(node2015)\n",
    "    \n",
    "    node2016 = optimise_node(node2016, edges=(rf2016,node2015,node2017), stepsize=stepsize)\n",
    "    nodeSim2016.append(node2016)\n",
    "    \n",
    "    node2017 = optimise_node(node2017, edges=(rf2017,node2016,node2018), stepsize=stepsize)\n",
    "    nodeSim2017.append(node2017)\n",
    "    \n",
    "    node2018 = optimise_node(node2018, edges=(rf2018,node2017), stepsize=stepsize)\n",
    "    nodeSim2018.append(node2018)\n",
    "    \n",
    "    nodes = (node2015, node2016, node2017, node2018)\n",
    "    edges = ((rf2015,node2016),(rf2016,node2015,node2017),(rf2017,node2016,node2018),(rf2018,node2017))\n",
    "    e = calc_total_energy(nodes,edges)\n",
    "    eTotal.append(e)\n",
    "    \n",
    "\n",
    "print(\"\\nAfter smoothing...\")\n",
    "\n",
    "print(\" Final node 2015:\", node2015)\n",
    "print(\" Final node 2016:\", node2016)\n",
    "print(\" Final node 2017:\", node2017)\n",
    "print(\" Final node 2018:\", node2018,\"\\n\")\n",
    "\n",
    "# print(\" Node sim 2015:\", [round(elem, 1) for elem in nodeSim2015])\n",
    "# print(\" Node sim 2016:\", [round(elem, 1) for elem in nodeSim2016])\n",
    "# print(\" Node sim 2017:\", [round(elem, 1) for elem in nodeSim2017])\n",
    "# print(\" Node sim 2018:\", [round(elem, 1) for elem in nodeSim2018])\n",
    "# print(\" Energy sim\", [round(elem, 1) for elem in eTotal])\n",
    "\n",
    "if plot == True:\n",
    "    plot_simulations(eTotal, nodeSim2015, nodeSim2016, nodeSim2017, nodeSim2018)"
   ]
  },
  {
   "cell_type": "code",
   "execution_count": null,
   "id": "ef27d08f",
   "metadata": {},
   "outputs": [],
   "source": []
  },
  {
   "cell_type": "code",
   "execution_count": 9,
   "id": "86c1c12c",
   "metadata": {},
   "outputs": [
    {
     "name": "stdout",
     "output_type": "stream",
     "text": [
      "112.9 sec.\n",
      "Done\n"
     ]
    }
   ],
   "source": [
    "# Set up\n",
    "smooth2015 = []\n",
    "smooth2016 = []\n",
    "smooth2017 = []\n",
    "smooth2018 = []\n",
    "t0 = time.time() # timer\n",
    "\n",
    "# Optimise all 30k points\n",
    "for i in range(len(pred2015)):\n",
    "#for i in range(1000):\n",
    "    \n",
    "    # List to save updated values in dictionary per class\n",
    "    listofdicts = []\n",
    "\n",
    "    # Optimise class by class\n",
    "    for j in classes:\n",
    "\n",
    "        # Locate basic RF-values\n",
    "        rf2015 = pred2015.iloc[i][j]\n",
    "        rf2016 = pred2016.iloc[i][j]\n",
    "        rf2017 = pred2017.iloc[i][j]\n",
    "        rf2018 = pred2018.iloc[i][j]\n",
    "\n",
    "        # Intialise node's values\n",
    "        node2015 = rf2015\n",
    "        node2016 = rf2016\n",
    "        node2017 = rf2017\n",
    "        node2018 = rf2018\n",
    "\n",
    "        # Stepsize to find optimal fraction\n",
    "        stepsize = 1\n",
    "        plot = False\n",
    "\n",
    "        # Keep track of nodes over iterations (useful to check with plot=True)\n",
    "        nodeSim2015 = []\n",
    "        nodeSim2016 = []\n",
    "        nodeSim2017 = []\n",
    "        nodeSim2018 = []\n",
    "        nodeSim2015.append(node2015)\n",
    "        nodeSim2016.append(node2016)\n",
    "        nodeSim2017.append(node2017)\n",
    "        nodeSim2018.append(node2018)\n",
    "\n",
    "        # Keep track of total energy over iterations (necessary) (useful to check with plot=True)\n",
    "        eTotal = []\n",
    "        eTotal.append(calc_total_energy(nodes = (node2015, node2016, node2017, node2018),\n",
    "                                        edges = ((rf2015,node2016),(rf2016,node2015,node2017),\n",
    "                                                 (rf2017,node2016,node2018),(rf2018,node2017))))\n",
    "        e = calc_total_energy(nodes = (node2015, node2016, node2017, node2018),\n",
    "                                        edges = ((rf2015,node2016),(rf2016,node2015,node2017),\n",
    "                                                 (rf2017,node2016,node2018),(rf2018,node2017)))\n",
    "\n",
    "\n",
    "        # Iterations over one chain\n",
    "        for k in range(10):\n",
    "\n",
    "            # Stop if total energy remains stable 3 iterations in a row\n",
    "            if len(eTotal) >= 5 and eTotal[k] == eTotal[k-1] == eTotal[k-2]:\n",
    "                break\n",
    "\n",
    "            # Optimise node's value of 2015\n",
    "            node2015 = optimise_node(node2015, edges=(rf2015,node2016), stepsize=stepsize)\n",
    "            nodeSim2015.append(node2015)\n",
    "\n",
    "            # Optimise node's value of 2016\n",
    "            node2016 = optimise_node(node2016, edges=(rf2016,node2015,node2017), stepsize=stepsize)\n",
    "            nodeSim2016.append(node2016)\n",
    "\n",
    "            # Optimise node's value of 2017\n",
    "            node2017 = optimise_node(node2017, edges=(rf2017,node2016,node2018), stepsize=stepsize)\n",
    "            nodeSim2017.append(node2017)\n",
    "\n",
    "            # Optimise node's value of 2018\n",
    "            node2018 = optimise_node(node2018, edges=(rf2018,node2017), stepsize=stepsize)\n",
    "            nodeSim2018.append(node2018)\n",
    "\n",
    "            # Calculate and store new total energy\n",
    "            nodes = (node2015, node2016, node2017, node2018)\n",
    "            edges = ((rf2015,node2016),(rf2016,node2015,node2017),(rf2017,node2016,node2018),(rf2018,node2017))\n",
    "            e = calc_total_energy(nodes,edges)\n",
    "            eTotal.append(e)\n",
    "\n",
    "\n",
    "        # add class values to listofdicts\n",
    "        dict1 = {\"2015\": node2015, \"2016\": node2016, \"2017\": node2017, \"2018\": node2018}\n",
    "        listofdicts.append(dict1)\n",
    "\n",
    "    # save per point updated values from listofdicts\n",
    "    smooth2015.append([dict1[\"2015\"] for dict1 in listofdicts])\n",
    "    smooth2016.append([dict1[\"2016\"] for dict1 in listofdicts])\n",
    "    smooth2017.append([dict1[\"2017\"] for dict1 in listofdicts])\n",
    "    smooth2018.append([dict1[\"2018\"] for dict1 in listofdicts])\n",
    "\n",
    "\n",
    "# Timer\n",
    "t1 = time.time()\n",
    "print(round(t1 - t0, 1), \"sec.\")\n",
    "\n",
    "# Lists to df\n",
    "smooth2015 = pd.DataFrame(smooth2015, columns=classes)\n",
    "smooth2016 = pd.DataFrame(smooth2016, columns=classes)\n",
    "smooth2017 = pd.DataFrame(smooth2017, columns=classes)\n",
    "smooth2018 = pd.DataFrame(smooth2018, columns=classes)\n",
    "\n",
    "# Replace <0 and >100 values before normalisation\n",
    "smooth2015[smooth2015 < 0] = 0\n",
    "smooth2015[smooth2015 > 100] = 100\n",
    "smooth2016[smooth2016 < 0] = 0\n",
    "smooth2016[smooth2016 > 100] = 100\n",
    "smooth2017[smooth2017 < 0] = 0\n",
    "smooth2017[smooth2017 > 100] = 100\n",
    "smooth2018[smooth2018 < 0] = 0\n",
    "smooth2018[smooth2018 > 100] = 100\n",
    "\n",
    "# Normalise all classes to add up to 100%\n",
    "smooth2015 = smooth2015.div(smooth2015.sum(axis=1), axis=0) * 100\n",
    "smooth2016 = smooth2016.div(smooth2016.sum(axis=1), axis=0) * 100\n",
    "smooth2017 = smooth2017.div(smooth2017.sum(axis=1), axis=0) * 100\n",
    "smooth2018 = smooth2018.div(smooth2018.sum(axis=1), axis=0) * 100\n",
    "\n",
    "# Replace NaN values with 0 (NaN resulting from normalisation)\n",
    "smooth2015 = smooth2015.replace(np.nan, 0)\n",
    "smooth2016 = smooth2016.replace(np.nan, 0)\n",
    "smooth2017 = smooth2017.replace(np.nan, 0)\n",
    "smooth2018 = smooth2018.replace(np.nan, 0)\n",
    "\n",
    "print(\"Done\")"
   ]
  },
  {
   "cell_type": "code",
   "execution_count": 156,
   "id": "75439364",
   "metadata": {},
   "outputs": [],
   "source": [
    "# List to save updated values in dictionary per class\n",
    "\n",
    "listofdicts = []\n",
    "i=2\n",
    "smooth2015 = []\n",
    "smooth2016 = []\n",
    "smooth2017 = []\n",
    "smooth2018 = []\n",
    "\n",
    "# Optimise class by class\n",
    "for j in classes:\n",
    "\n",
    "    # Locate basic RF-values\n",
    "    rf2015 = pred2015.iloc[i][j]\n",
    "    rf2016 = pred2016.iloc[i][j]\n",
    "    rf2017 = pred2017.iloc[i][j]\n",
    "    rf2018 = pred2018.iloc[i][j]\n",
    "\n",
    "    # Intialise node's values\n",
    "    node2015 = rf2015\n",
    "    node2016 = rf2016\n",
    "    node2017 = rf2017\n",
    "    node2018 = rf2018\n",
    "\n",
    "    # Stepsize to find optimal fraction\n",
    "    stepsize = 1\n",
    "    plot = False\n",
    "\n",
    "    # Keep track of nodes over iterations (useful to check with plot=True)\n",
    "    nodeSim2015 = []\n",
    "    nodeSim2016 = []\n",
    "    nodeSim2017 = []\n",
    "    nodeSim2018 = []\n",
    "    nodeSim2015.append(node2015)\n",
    "    nodeSim2016.append(node2016)\n",
    "    nodeSim2017.append(node2017)\n",
    "    nodeSim2018.append(node2018)\n",
    "\n",
    "    # Keep track of total energy over iterations (necessary) (useful to check with plot=True)\n",
    "    eTotal = []\n",
    "    eTotal.append(calc_total_energy(nodes = (node2015, node2016, node2017, node2018),\n",
    "                                    edges = ((rf2015,node2016),(rf2016,node2015,node2017),\n",
    "                                             (rf2017,node2016,node2018),(rf2018,node2017))))\n",
    "    e = calc_total_energy(nodes = (node2015, node2016, node2017, node2018),\n",
    "                                    edges = ((rf2015,node2016),(rf2016,node2015,node2017),\n",
    "                                             (rf2017,node2016,node2018),(rf2018,node2017)))\n",
    "\n",
    "\n",
    "    # Iterations over one chain\n",
    "    for k in range(10):\n",
    "\n",
    "        # Stop if total energy remains stable 3 iterations in a row\n",
    "        if len(eTotal) >= 5 and eTotal[k] == eTotal[k-1] == eTotal[k-2]:\n",
    "            break\n",
    "\n",
    "        # Optimise node's value of 2015\n",
    "        node2015 = optimise_node(node2015, edges=(rf2015,node2016), stepsize=stepsize)\n",
    "        nodeSim2015.append(node2015)\n",
    "\n",
    "        # Optimise node's value of 2016\n",
    "        node2016 = optimise_node(node2016, edges=(rf2016,node2015,node2017), stepsize=stepsize)\n",
    "        nodeSim2016.append(node2016)\n",
    "\n",
    "        # Optimise node's value of 2017\n",
    "        node2017 = optimise_node(node2017, edges=(rf2017,node2016,node2018), stepsize=stepsize)\n",
    "        nodeSim2017.append(node2017)\n",
    "\n",
    "        # Optimise node's value of 2018\n",
    "        node2018 = optimise_node(node2018, edges=(rf2018,node2017), stepsize=stepsize)\n",
    "        nodeSim2018.append(node2018)\n",
    "\n",
    "        # Calculate and store new total energy\n",
    "        nodes = (node2015, node2016, node2017, node2018)\n",
    "        edges = ((rf2015,node2016),(rf2016,node2015,node2017),(rf2017,node2016,node2018),(rf2018,node2017))\n",
    "        e = calc_total_energy(nodes,edges)\n",
    "        eTotal.append(e)\n",
    "\n",
    "\n",
    "    # add class values to listofdicts\n",
    "    dict1 = {\"2015\": node2015, \"2016\": node2016, \"2017\": node2017, \"2018\": node2018}\n",
    "    listofdicts.append(dict1)\n",
    "\n",
    "# save per point updated values from listofdicts\n",
    "smooth2015.append([dict1[\"2015\"] for dict1 in listofdicts])\n",
    "smooth2016.append([dict1[\"2016\"] for dict1 in listofdicts])\n",
    "smooth2017.append([dict1[\"2017\"] for dict1 in listofdicts])\n",
    "smooth2018.append([dict1[\"2018\"] for dict1 in listofdicts])"
   ]
  },
  {
   "cell_type": "code",
   "execution_count": 157,
   "id": "c6b0731d",
   "metadata": {},
   "outputs": [
    {
     "data": {
      "text/plain": [
       "[{'2015': 6.94736842105263,\n",
       "  '2016': 9.8108108108108,\n",
       "  '2017': 11.3636363636364,\n",
       "  '2018': 14.2162162162162},\n",
       " {'2015': 24.6842105263158,\n",
       "  '2016': 26.027027027027,\n",
       "  '2017': 26.0,\n",
       "  '2018': 26.027027027027},\n",
       " {'2015': 56.2105263157895,\n",
       "  '2016': 54.0540540540541,\n",
       "  '2017': 51.7272727272727,\n",
       "  '2018': 53.7567567567568},\n",
       " {'2015': 0.0, '2016': 0.0, '2017': 0.0, '2018': 0.0},\n",
       " {'2015': 0.0, '2016': 0.0, '2017': 0.0, '2018': 0.0},\n",
       " {'2015': 11.1578947368421,\n",
       "  '2016': 10.10810810810811,\n",
       "  '2017': 9.9090909090909,\n",
       "  '2018': 5.0},\n",
       " {'2015': 0.0, '2016': 0.0, '2017': 0.0, '2018': 0.0}]"
      ]
     },
     "execution_count": 157,
     "metadata": {},
     "output_type": "execute_result"
    }
   ],
   "source": [
    "listofdicts"
   ]
  },
  {
   "cell_type": "code",
   "execution_count": 182,
   "id": "bdc5bd7e",
   "metadata": {},
   "outputs": [
    {
     "data": {
      "text/plain": [
       "6.94736842105263"
      ]
     },
     "execution_count": 182,
     "metadata": {},
     "output_type": "execute_result"
    }
   ],
   "source": [
    "list(listofdicts[0].values())[0]"
   ]
  },
  {
   "cell_type": "code",
   "execution_count": 160,
   "id": "463900b0",
   "metadata": {},
   "outputs": [
    {
     "data": {
      "text/html": [
       "<div>\n",
       "<style scoped>\n",
       "    .dataframe tbody tr th:only-of-type {\n",
       "        vertical-align: middle;\n",
       "    }\n",
       "\n",
       "    .dataframe tbody tr th {\n",
       "        vertical-align: top;\n",
       "    }\n",
       "\n",
       "    .dataframe thead th {\n",
       "        text-align: right;\n",
       "    }\n",
       "</style>\n",
       "<table border=\"1\" class=\"dataframe\">\n",
       "  <thead>\n",
       "    <tr style=\"text-align: right;\">\n",
       "      <th></th>\n",
       "      <th>tree</th>\n",
       "      <th>shrub</th>\n",
       "      <th>grassland</th>\n",
       "      <th>crops</th>\n",
       "      <th>urban_built_up</th>\n",
       "      <th>bare</th>\n",
       "      <th>water</th>\n",
       "    </tr>\n",
       "  </thead>\n",
       "  <tbody>\n",
       "    <tr>\n",
       "      <th>2</th>\n",
       "      <td>3.947368</td>\n",
       "      <td>23.684211</td>\n",
       "      <td>59.210526</td>\n",
       "      <td>0.0</td>\n",
       "      <td>0.0</td>\n",
       "      <td>13.157895</td>\n",
       "      <td>0.0</td>\n",
       "    </tr>\n",
       "    <tr>\n",
       "      <th>2</th>\n",
       "      <td>10.810811</td>\n",
       "      <td>27.027027</td>\n",
       "      <td>54.054054</td>\n",
       "      <td>0.0</td>\n",
       "      <td>0.0</td>\n",
       "      <td>8.108108</td>\n",
       "      <td>0.0</td>\n",
       "    </tr>\n",
       "    <tr>\n",
       "      <th>2</th>\n",
       "      <td>11.363636</td>\n",
       "      <td>25.000000</td>\n",
       "      <td>47.727273</td>\n",
       "      <td>0.0</td>\n",
       "      <td>0.0</td>\n",
       "      <td>15.909091</td>\n",
       "      <td>0.0</td>\n",
       "    </tr>\n",
       "    <tr>\n",
       "      <th>2</th>\n",
       "      <td>16.216216</td>\n",
       "      <td>27.027027</td>\n",
       "      <td>56.756757</td>\n",
       "      <td>0.0</td>\n",
       "      <td>0.0</td>\n",
       "      <td>0.000000</td>\n",
       "      <td>0.0</td>\n",
       "    </tr>\n",
       "  </tbody>\n",
       "</table>\n",
       "</div>"
      ],
      "text/plain": [
       "        tree      shrub  grassland  crops  urban_built_up       bare  water\n",
       "2   3.947368  23.684211  59.210526    0.0             0.0  13.157895    0.0\n",
       "2  10.810811  27.027027  54.054054    0.0             0.0   8.108108    0.0\n",
       "2  11.363636  25.000000  47.727273    0.0             0.0  15.909091    0.0\n",
       "2  16.216216  27.027027  56.756757    0.0             0.0   0.000000    0.0"
      ]
     },
     "execution_count": 160,
     "metadata": {},
     "output_type": "execute_result"
    }
   ],
   "source": [
    "pd.DataFrame([pred2015.iloc[i],pred2016.iloc[i],pred2017.iloc[i],pred2018.iloc[i]])"
   ]
  },
  {
   "cell_type": "code",
   "execution_count": 173,
   "id": "b42d192e",
   "metadata": {},
   "outputs": [
    {
     "data": {
      "text/html": [
       "<div>\n",
       "<style scoped>\n",
       "    .dataframe tbody tr th:only-of-type {\n",
       "        vertical-align: middle;\n",
       "    }\n",
       "\n",
       "    .dataframe tbody tr th {\n",
       "        vertical-align: top;\n",
       "    }\n",
       "\n",
       "    .dataframe thead th {\n",
       "        text-align: right;\n",
       "    }\n",
       "</style>\n",
       "<table border=\"1\" class=\"dataframe\">\n",
       "  <thead>\n",
       "    <tr style=\"text-align: right;\">\n",
       "      <th></th>\n",
       "      <th>tree</th>\n",
       "      <th>shrub</th>\n",
       "      <th>grassland</th>\n",
       "      <th>crops</th>\n",
       "      <th>urban_built_up</th>\n",
       "      <th>bare</th>\n",
       "      <th>water</th>\n",
       "    </tr>\n",
       "  </thead>\n",
       "  <tbody>\n",
       "    <tr>\n",
       "      <th>0</th>\n",
       "      <td>6.947368</td>\n",
       "      <td>24.684211</td>\n",
       "      <td>56.210526</td>\n",
       "      <td>0.0</td>\n",
       "      <td>0.0</td>\n",
       "      <td>11.157895</td>\n",
       "      <td>0.0</td>\n",
       "    </tr>\n",
       "    <tr>\n",
       "      <th>1</th>\n",
       "      <td>9.810811</td>\n",
       "      <td>26.027027</td>\n",
       "      <td>54.054054</td>\n",
       "      <td>0.0</td>\n",
       "      <td>0.0</td>\n",
       "      <td>10.108108</td>\n",
       "      <td>0.0</td>\n",
       "    </tr>\n",
       "    <tr>\n",
       "      <th>2</th>\n",
       "      <td>11.363636</td>\n",
       "      <td>26.000000</td>\n",
       "      <td>51.727273</td>\n",
       "      <td>0.0</td>\n",
       "      <td>0.0</td>\n",
       "      <td>9.909091</td>\n",
       "      <td>0.0</td>\n",
       "    </tr>\n",
       "    <tr>\n",
       "      <th>3</th>\n",
       "      <td>14.216216</td>\n",
       "      <td>26.027027</td>\n",
       "      <td>53.756757</td>\n",
       "      <td>0.0</td>\n",
       "      <td>0.0</td>\n",
       "      <td>5.000000</td>\n",
       "      <td>0.0</td>\n",
       "    </tr>\n",
       "  </tbody>\n",
       "</table>\n",
       "</div>"
      ],
      "text/plain": [
       "        tree      shrub  grassland  crops  urban_built_up       bare  water\n",
       "0   6.947368  24.684211  56.210526    0.0             0.0  11.157895    0.0\n",
       "1   9.810811  26.027027  54.054054    0.0             0.0  10.108108    0.0\n",
       "2  11.363636  26.000000  51.727273    0.0             0.0   9.909091    0.0\n",
       "3  14.216216  26.027027  53.756757    0.0             0.0   5.000000    0.0"
      ]
     },
     "execution_count": 173,
     "metadata": {},
     "output_type": "execute_result"
    }
   ],
   "source": [
    "smooth2015 = pd.DataFrame(smooth2015, columns=classes)\n",
    "smooth2016 = pd.DataFrame(smooth2016, columns=classes)\n",
    "smooth2017 = pd.DataFrame(smooth2017, columns=classes)\n",
    "smooth2018 = pd.DataFrame(smooth2018, columns=classes)\n",
    "pd.concat([smooth2015,smooth2016,smooth2017,smooth2018],ignore_index=True)"
   ]
  },
  {
   "cell_type": "code",
   "execution_count": null,
   "id": "21430acf",
   "metadata": {},
   "outputs": [],
   "source": []
  },
  {
   "cell_type": "code",
   "execution_count": null,
   "id": "a11b1c89",
   "metadata": {},
   "outputs": [],
   "source": []
  },
  {
   "cell_type": "code",
   "execution_count": null,
   "id": "d24444bc",
   "metadata": {},
   "outputs": [],
   "source": []
  },
  {
   "cell_type": "code",
   "execution_count": null,
   "id": "1892d45f",
   "metadata": {},
   "outputs": [],
   "source": []
  },
  {
   "cell_type": "code",
   "execution_count": 31,
   "id": "62a624fd",
   "metadata": {},
   "outputs": [],
   "source": [
    "smooth2015.to_csv(\"../../data/output/markov/smooth2015-basic.csv\",index=False)\n",
    "smooth2016.to_csv(\"../../data/output/markov/smooth2016-basic.csv\",index=False)\n",
    "smooth2017.to_csv(\"../../data/output/markov/smooth2017-basic.csv\",index=False)\n",
    "smooth2018.to_csv(\"../../data/output/markov/smooth2018-basic.csv\",index=False)"
   ]
  },
  {
   "cell_type": "code",
   "execution_count": null,
   "id": "b6f650f5",
   "metadata": {},
   "outputs": [],
   "source": []
  },
  {
   "cell_type": "code",
   "execution_count": null,
   "id": "cf1da244",
   "metadata": {},
   "outputs": [],
   "source": []
  },
  {
   "cell_type": "code",
   "execution_count": 19,
   "id": "2761e940",
   "metadata": {},
   "outputs": [],
   "source": [
    "# optimise_node\n",
    "\n",
    "def optimise_node(node, edges, stepsize=5):\n",
    "\n",
    "    # describe edges\n",
    "    # 2 edges: rf2015 + node2016\n",
    "    e = calc_energy(node, edges)\n",
    "    \n",
    "    # Create empty list to keep track of energy\n",
    "    eSim = []\n",
    "    eSim.append(e)\n",
    "    #print(\"Initial Energy:\", eSim[0])\n",
    "\n",
    "    #print(\"Start simulation...\")\n",
    "    node = minimise_energy(node, edges, eSim, stepsize)\n",
    "    #print(\"New node:\", node)\n",
    "    #print(\"Energy:\", eSim)\n",
    "    \n",
    "    \n",
    "    return node"
   ]
  },
  {
   "cell_type": "code",
   "execution_count": 20,
   "id": "66a4402d",
   "metadata": {},
   "outputs": [],
   "source": [
    "def calc_energy(node, edges):\n",
    "    \n",
    "    edge1 = edges[0]\n",
    "    edge2 = edges[1]\n",
    "    \n",
    "    e1 = (node - edge1)**2\n",
    "    e2 = (node - edge2)**2\n",
    "    \n",
    "    if len(edges) == 3:\n",
    "        edge3 = edges[2]\n",
    "        e3 = (node - edge3)**2\n",
    "        return e1 + e2 + e3\n",
    "    \n",
    "    return e1 + e2\n",
    "\n",
    "\n",
    "def minimise_energy(node, edges, eSim, stepsize):\n",
    "    \n",
    "    i = 0\n",
    "    #print(i)\n",
    "    \n",
    "    if calc_energy(node + stepsize, edges) < eSim[i]:\n",
    "        node = node + stepsize\n",
    "        i += 1\n",
    "        eSim.append(calc_energy(node, edges))\n",
    "        \n",
    "        while calc_energy(node + stepsize, edges) < eSim[i]:\n",
    "            node = node + stepsize\n",
    "            i += 1\n",
    "            eSim.append(calc_energy(node,edges))\n",
    "        \n",
    "    elif calc_energy(node - stepsize, edges) < eSim[i]:\n",
    "        node = node - stepsize\n",
    "        i += 1\n",
    "        eSim.append(calc_energy(node, edges))\n",
    "        \n",
    "        while calc_energy(node - stepsize, edges) < eSim[i]:\n",
    "            node = node - stepsize\n",
    "            i += 1\n",
    "            eSim.append(calc_energy(node, edges))\n",
    "    \n",
    "    return node\n",
    "\n",
    "\n",
    "def calc_total_energy(nodes, edges):\n",
    "    \n",
    "    node2015 = nodes[0]\n",
    "    node2016 = nodes[1]\n",
    "    node2017 = nodes[2]\n",
    "    node2018 = nodes[3]\n",
    "    edges2015 = edges[0]\n",
    "    edges2016 = edges[1]\n",
    "    edges2017 = edges[2]\n",
    "    edges2018 = edges[3]\n",
    "    \n",
    "    e2015 = calc_energy(node2015, edges2015)\n",
    "    e2016 = calc_energy(node2016, edges2016)\n",
    "    e2017 = calc_energy(node2017, edges2017)\n",
    "    e2018 = calc_energy(node2018, edges2018)\n",
    "    \n",
    "    return e2015 + e2016 + e2017 + e2018\n",
    "    "
   ]
  },
  {
   "cell_type": "code",
   "execution_count": 21,
   "id": "3a9a38f6",
   "metadata": {},
   "outputs": [],
   "source": [
    "def plot_simulations(eTotal, nodeSim2015, nodeSim2016, nodeSim2017, nodeSim2018):\n",
    "\n",
    "    # Plot energy over iterations\n",
    "    xs = [x for x in range(len(eTotal))]\n",
    "    plt.figure(figsize=(15,6), dpi= 100)\n",
    "    plt.subplot(1, 3, 1)\n",
    "    plt.plot(xs, eTotal)\n",
    "    plt.ylabel('Energy', fontsize=14)\n",
    "    plt.xlabel('Iterations', fontsize=14)\n",
    "\n",
    "    # Plot nodes over iterations\n",
    "    xs = [x for x in range(len(nodeSim2015))]\n",
    "    plt.subplot(1, 3, 2)\n",
    "    plt.plot(xs, nodeSim2015)\n",
    "    plt.plot(xs, nodeSim2016)\n",
    "    plt.plot(xs, nodeSim2017)\n",
    "    plt.plot(xs, nodeSim2018)\n",
    "    plt.ylabel('Fraction', fontsize=14)\n",
    "    plt.xlabel('Iterations', fontsize=14)\n",
    "    plt.legend([\"2015\",\"2016\",\"2017\",\"2018\"], loc=\"upper left\", bbox_to_anchor=(1, 0.5))\n",
    "\n",
    "    xs = [\"2015\",\"2016\",\"2017\",\"2018\"]\n",
    "    yRF = [rf2015,rf2016,rf2017,rf2018]\n",
    "    yNode = [node2015,node2016,node2017,node2018]\n",
    "    plt.subplot(1, 3, 3)\n",
    "    plt.plot(xs, yRF)\n",
    "    plt.plot(xs, yNode)\n",
    "    plt.ylabel('Fractions', fontsize=14)\n",
    "    plt.xlabel('Years', fontsize=14)\n",
    "    plt.legend([\"RF\",\"Smoothed\"], loc=\"upper left\", bbox_to_anchor=(1, 0.5))\n",
    "\n",
    "    plt.tight_layout()\n",
    "    plt.show()"
   ]
  },
  {
   "cell_type": "code",
   "execution_count": null,
   "id": "de206f63",
   "metadata": {},
   "outputs": [],
   "source": []
  },
  {
   "cell_type": "code",
   "execution_count": null,
   "id": "af49876d",
   "metadata": {},
   "outputs": [],
   "source": []
  },
  {
   "cell_type": "code",
   "execution_count": null,
   "id": "9f683972",
   "metadata": {},
   "outputs": [],
   "source": []
  },
  {
   "cell_type": "code",
   "execution_count": null,
   "id": "ca4c9fd8",
   "metadata": {},
   "outputs": [],
   "source": []
  },
  {
   "cell_type": "code",
   "execution_count": null,
   "id": "b99fdded",
   "metadata": {},
   "outputs": [],
   "source": []
  },
  {
   "cell_type": "code",
   "execution_count": null,
   "id": "8ea89b5a",
   "metadata": {},
   "outputs": [],
   "source": []
  },
  {
   "cell_type": "code",
   "execution_count": null,
   "id": "9fcd86bf",
   "metadata": {},
   "outputs": [],
   "source": []
  }
 ],
 "metadata": {
  "kernelspec": {
   "display_name": "Python 3",
   "language": "python",
   "name": "python3"
  },
  "language_info": {
   "codemirror_mode": {
    "name": "ipython",
    "version": 3
   },
   "file_extension": ".py",
   "mimetype": "text/x-python",
   "name": "python",
   "nbconvert_exporter": "python",
   "pygments_lexer": "ipython3",
   "version": "3.8.8"
  }
 },
 "nbformat": 4,
 "nbformat_minor": 5
}
